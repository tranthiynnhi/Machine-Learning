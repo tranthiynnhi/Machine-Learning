{
 "cells": [
  {
   "cell_type": "markdown",
   "metadata": {
    "id": "MiSvz4AxC3sY"
   },
   "source": [
    "**Đồ án nhóm 11: Phân loại khách hàng tiềm năng**\n",
    "\n",
    "*Thành viên nhóm:*\n",
    "\n",
    "- Nguyễn Tuấn Phát          030138220308\n",
    "\n",
    "---\n",
    "\n",
    "\n",
    "- Trần Thị Yến Nhi          030138220288\n",
    "\n",
    "---\n",
    "\n",
    "\n",
    "- Nguyễn Lê Thanh Trang     030138220420\n",
    "\n",
    "---\n",
    "\n",
    "\n",
    "- Trần Nguyễn Tân Khoa      030138220176\n",
    "\n",
    "---\n",
    "\n",
    "\n",
    "- Phan Thùy Dung            030138220063\n",
    "\n",
    "---\n",
    "\n",
    "\n",
    "- Hoàng Yến Nhi             030138220279"
   ]
  },
  {
   "cell_type": "markdown",
   "metadata": {
    "id": "ychhXJ8u5ZRC"
   },
   "source": [
    "# Sơ lược dữ liệu\n",
    "**Bank client data:**\n",
    "1. Age: tuổi (số, dạng số).\n",
    "\n",
    "2. Job: loại công việc (phân loại: \"admin.\", \"unknown\", \"unemployed\", \"management\", \"housemaid\", \"entrepreneur\", \"student\", \"blue-collar\", \"self-employed\", \"retired\", \"technician\", \"services\").\n",
    "\n",
    "3. Marital: tình trạng hôn nhân (phân loại: \"married\", \"divorced\", \"single\"; lưu ý: \"divorced\" có thể bao gồm đã ly hôn hoặc góa).\n",
    "\n",
    "4. Education: trình độ học vấn (phân loại: \"unknown\", \"secondary\", \"primary\", \"tertiary\").\n",
    "\n",
    "5. Default: có nợ tín dụng không? (nhị phân: \"yes\", \"no\").\n",
    "\n",
    "6. Balance: số dư trung bình hàng năm, tính bằng euro (số, dạng số).\n",
    "\n",
    "7. Housing: có khoản vay nhà ở không? (nhị phân: \"yes\", \"no\").\n",
    "\n",
    "8. Loan: có khoản vay cá nhân không? (nhị phân: \"yes\", \"no\").\n",
    "\n",
    "**Related with the last contact of the current campaign:**\n",
    "\n",
    "9. Contact: Phương thức liên lạc với khách hàng (phân loại: \"unknown\",\"telephone\",\"cellular\").\n",
    "\n",
    "10. Day: Ngày thực hiện chiến dịch (số).\n",
    "\n",
    "11. Month: Tháng thực hiện chiến dịch (phân loại: \"jan\", \"feb\", \"mar\", …, \"nov\", \"dec\").\n",
    "\n",
    "12. Duration: Thời gian của cuộc gọi (tính bằng giây, số nguyên).\n",
    "\n",
    "**Other attributes:**\n",
    "\n",
    "13. Campaign: Số cuộc gọi đã thực hiện trong chiến dịch (số).\n",
    "\n",
    "14. Pdays: Số ngày kể từ chiến dịch trước (số, -1 tức là khách hàng chưa từng được liên lạc).\n",
    "\n",
    "15. Previous: Số cuộc gọi đã thực hiện trong các chiến dịch trước đó (số).\n",
    "\n",
    "16. Poutcome: Kết quả của chiến dịch trước đó (phân loại: \"unknown\",\"other\",\"failure\",\"success\").\n",
    "\n",
    "**Output variable (desired target):**\n",
    "\n",
    "17. y: Khách hàng có đăng ký sản phẩm \"tiền gửi có kỳ hạn\" hay không (có/không)."
   ]
  },
  {
   "cell_type": "code",
   "execution_count": 4,
   "metadata": {
    "executionInfo": {
     "elapsed": 382,
     "status": "ok",
     "timestamp": 1736955761976,
     "user": {
      "displayName": "Nguyễn Tuấn Phát",
      "userId": "04366712349912838190"
     },
     "user_tz": -420
    },
    "id": "x_Kv6xBsXhN5"
   },
   "outputs": [],
   "source": [
    "import os\n",
    "import pandas as pd\n",
    "import numpy as np\n",
    "import matplotlib.pyplot as plt\n",
    "import seaborn as sns\n",
    "from sklearn.model_selection import train_test_split\n",
    "from sklearn.linear_model import LinearRegression\n",
    "from sklearn.ensemble import RandomForestRegressor\n",
    "from sklearn.ensemble import GradientBoostingRegressor\n",
    "from sklearn.metrics import mean_absolute_error, mean_squared_error, r2_score\n",
    "from sklearn.ensemble import RandomForestRegressor\n",
    "from sklearn.ensemble import RandomForestClassifier"
   ]
  },
  {
   "cell_type": "code",
   "execution_count": 5,
   "metadata": {
    "colab": {
     "base_uri": "https://localhost:8080/",
     "height": 226
    },
    "executionInfo": {
     "elapsed": 791,
     "status": "ok",
     "timestamp": 1736959563801,
     "user": {
      "displayName": "Nguyễn Tuấn Phát",
      "userId": "04366712349912838190"
     },
     "user_tz": -420
    },
    "id": "HzrFr8v-XmHq",
    "outputId": "9c9de30d-745f-4cdf-fdf9-976f470c3b2c"
   },
   "outputs": [
    {
     "data": {
      "text/html": [
       "<div>\n",
       "<style scoped>\n",
       "    .dataframe tbody tr th:only-of-type {\n",
       "        vertical-align: middle;\n",
       "    }\n",
       "\n",
       "    .dataframe tbody tr th {\n",
       "        vertical-align: top;\n",
       "    }\n",
       "\n",
       "    .dataframe thead th {\n",
       "        text-align: right;\n",
       "    }\n",
       "</style>\n",
       "<table border=\"1\" class=\"dataframe\">\n",
       "  <thead>\n",
       "    <tr style=\"text-align: right;\">\n",
       "      <th></th>\n",
       "      <th>age</th>\n",
       "      <th>job</th>\n",
       "      <th>marital</th>\n",
       "      <th>education</th>\n",
       "      <th>default</th>\n",
       "      <th>balance</th>\n",
       "      <th>housing</th>\n",
       "      <th>loan</th>\n",
       "      <th>contact</th>\n",
       "      <th>day</th>\n",
       "      <th>month</th>\n",
       "      <th>duration</th>\n",
       "      <th>campaign</th>\n",
       "      <th>pdays</th>\n",
       "      <th>previous</th>\n",
       "      <th>poutcome</th>\n",
       "      <th>y</th>\n",
       "    </tr>\n",
       "  </thead>\n",
       "  <tbody>\n",
       "    <tr>\n",
       "      <th>0</th>\n",
       "      <td>58</td>\n",
       "      <td>management</td>\n",
       "      <td>married</td>\n",
       "      <td>tertiary</td>\n",
       "      <td>no</td>\n",
       "      <td>2143</td>\n",
       "      <td>yes</td>\n",
       "      <td>no</td>\n",
       "      <td>unknown</td>\n",
       "      <td>5</td>\n",
       "      <td>may</td>\n",
       "      <td>261</td>\n",
       "      <td>1</td>\n",
       "      <td>-1</td>\n",
       "      <td>0</td>\n",
       "      <td>unknown</td>\n",
       "      <td>no</td>\n",
       "    </tr>\n",
       "    <tr>\n",
       "      <th>1</th>\n",
       "      <td>44</td>\n",
       "      <td>technician</td>\n",
       "      <td>single</td>\n",
       "      <td>secondary</td>\n",
       "      <td>no</td>\n",
       "      <td>29</td>\n",
       "      <td>yes</td>\n",
       "      <td>no</td>\n",
       "      <td>unknown</td>\n",
       "      <td>5</td>\n",
       "      <td>may</td>\n",
       "      <td>151</td>\n",
       "      <td>1</td>\n",
       "      <td>-1</td>\n",
       "      <td>0</td>\n",
       "      <td>unknown</td>\n",
       "      <td>no</td>\n",
       "    </tr>\n",
       "    <tr>\n",
       "      <th>2</th>\n",
       "      <td>33</td>\n",
       "      <td>entrepreneur</td>\n",
       "      <td>married</td>\n",
       "      <td>secondary</td>\n",
       "      <td>no</td>\n",
       "      <td>2</td>\n",
       "      <td>yes</td>\n",
       "      <td>yes</td>\n",
       "      <td>unknown</td>\n",
       "      <td>5</td>\n",
       "      <td>may</td>\n",
       "      <td>76</td>\n",
       "      <td>1</td>\n",
       "      <td>-1</td>\n",
       "      <td>0</td>\n",
       "      <td>unknown</td>\n",
       "      <td>no</td>\n",
       "    </tr>\n",
       "    <tr>\n",
       "      <th>3</th>\n",
       "      <td>47</td>\n",
       "      <td>blue-collar</td>\n",
       "      <td>married</td>\n",
       "      <td>unknown</td>\n",
       "      <td>no</td>\n",
       "      <td>1506</td>\n",
       "      <td>yes</td>\n",
       "      <td>no</td>\n",
       "      <td>unknown</td>\n",
       "      <td>5</td>\n",
       "      <td>may</td>\n",
       "      <td>92</td>\n",
       "      <td>1</td>\n",
       "      <td>-1</td>\n",
       "      <td>0</td>\n",
       "      <td>unknown</td>\n",
       "      <td>no</td>\n",
       "    </tr>\n",
       "    <tr>\n",
       "      <th>4</th>\n",
       "      <td>33</td>\n",
       "      <td>unknown</td>\n",
       "      <td>single</td>\n",
       "      <td>unknown</td>\n",
       "      <td>no</td>\n",
       "      <td>1</td>\n",
       "      <td>no</td>\n",
       "      <td>no</td>\n",
       "      <td>unknown</td>\n",
       "      <td>5</td>\n",
       "      <td>may</td>\n",
       "      <td>198</td>\n",
       "      <td>1</td>\n",
       "      <td>-1</td>\n",
       "      <td>0</td>\n",
       "      <td>unknown</td>\n",
       "      <td>no</td>\n",
       "    </tr>\n",
       "  </tbody>\n",
       "</table>\n",
       "</div>"
      ],
      "text/plain": [
       "   age           job  marital  education default  balance housing loan  \\\n",
       "0   58    management  married   tertiary      no     2143     yes   no   \n",
       "1   44    technician   single  secondary      no       29     yes   no   \n",
       "2   33  entrepreneur  married  secondary      no        2     yes  yes   \n",
       "3   47   blue-collar  married    unknown      no     1506     yes   no   \n",
       "4   33       unknown   single    unknown      no        1      no   no   \n",
       "\n",
       "   contact  day month  duration  campaign  pdays  previous poutcome   y  \n",
       "0  unknown    5   may       261         1     -1         0  unknown  no  \n",
       "1  unknown    5   may       151         1     -1         0  unknown  no  \n",
       "2  unknown    5   may        76         1     -1         0  unknown  no  \n",
       "3  unknown    5   may        92         1     -1         0  unknown  no  \n",
       "4  unknown    5   may       198         1     -1         0  unknown  no  "
      ]
     },
     "execution_count": 5,
     "metadata": {},
     "output_type": "execute_result"
    }
   ],
   "source": [
    "data = pd.read_csv('Data.csv', sep=';')\n",
    "df = data.copy()\n",
    "df.head()"
   ]
  },
  {
   "cell_type": "markdown",
   "metadata": {
    "id": "DDF8s3Jg6gXR"
   },
   "source": [
    "# 1. Kiểm tra thông tin cơ bản về dữ liệu"
   ]
  },
  {
   "cell_type": "code",
   "execution_count": 9,
   "metadata": {
    "colab": {
     "base_uri": "https://localhost:8080/"
    },
    "executionInfo": {
     "elapsed": 382,
     "status": "ok",
     "timestamp": 1736955768197,
     "user": {
      "displayName": "Nguyễn Tuấn Phát",
      "userId": "04366712349912838190"
     },
     "user_tz": -420
    },
    "id": "8908zCIVt5dd",
    "outputId": "bcddee63-f971-4a4f-85d3-5c7a3a334ffa"
   },
   "outputs": [
    {
     "name": "stdout",
     "output_type": "stream",
     "text": [
      "<class 'pandas.core.frame.DataFrame'>\n",
      "RangeIndex: 45211 entries, 0 to 45210\n",
      "Data columns (total 17 columns):\n",
      " #   Column     Non-Null Count  Dtype \n",
      "---  ------     --------------  ----- \n",
      " 0   age        45211 non-null  int64 \n",
      " 1   job        45211 non-null  object\n",
      " 2   marital    45211 non-null  object\n",
      " 3   education  45211 non-null  object\n",
      " 4   default    45211 non-null  object\n",
      " 5   balance    45211 non-null  int64 \n",
      " 6   housing    45211 non-null  object\n",
      " 7   loan       45211 non-null  object\n",
      " 8   contact    45211 non-null  object\n",
      " 9   day        45211 non-null  int64 \n",
      " 10  month      45211 non-null  object\n",
      " 11  duration   45211 non-null  int64 \n",
      " 12  campaign   45211 non-null  int64 \n",
      " 13  pdays      45211 non-null  int64 \n",
      " 14  previous   45211 non-null  int64 \n",
      " 15  poutcome   45211 non-null  object\n",
      " 16  y          45211 non-null  object\n",
      "dtypes: int64(7), object(10)\n",
      "memory usage: 5.9+ MB\n"
     ]
    }
   ],
   "source": [
    "df.info()"
   ]
  },
  {
   "cell_type": "code",
   "execution_count": 11,
   "metadata": {
    "colab": {
     "base_uri": "https://localhost:8080/",
     "height": 300
    },
    "executionInfo": {
     "elapsed": 362,
     "status": "ok",
     "timestamp": 1736955772533,
     "user": {
      "displayName": "Nguyễn Tuấn Phát",
      "userId": "04366712349912838190"
     },
     "user_tz": -420
    },
    "id": "JODRs-pLt__X",
    "outputId": "6d4cdbb5-d6a5-4288-914e-5a1c6af1305e"
   },
   "outputs": [
    {
     "data": {
      "text/html": [
       "<div>\n",
       "<style scoped>\n",
       "    .dataframe tbody tr th:only-of-type {\n",
       "        vertical-align: middle;\n",
       "    }\n",
       "\n",
       "    .dataframe tbody tr th {\n",
       "        vertical-align: top;\n",
       "    }\n",
       "\n",
       "    .dataframe thead th {\n",
       "        text-align: right;\n",
       "    }\n",
       "</style>\n",
       "<table border=\"1\" class=\"dataframe\">\n",
       "  <thead>\n",
       "    <tr style=\"text-align: right;\">\n",
       "      <th></th>\n",
       "      <th>age</th>\n",
       "      <th>balance</th>\n",
       "      <th>day</th>\n",
       "      <th>duration</th>\n",
       "      <th>campaign</th>\n",
       "      <th>pdays</th>\n",
       "      <th>previous</th>\n",
       "    </tr>\n",
       "  </thead>\n",
       "  <tbody>\n",
       "    <tr>\n",
       "      <th>count</th>\n",
       "      <td>45211.000000</td>\n",
       "      <td>45211.000000</td>\n",
       "      <td>45211.000000</td>\n",
       "      <td>45211.000000</td>\n",
       "      <td>45211.000000</td>\n",
       "      <td>45211.000000</td>\n",
       "      <td>45211.000000</td>\n",
       "    </tr>\n",
       "    <tr>\n",
       "      <th>mean</th>\n",
       "      <td>40.936210</td>\n",
       "      <td>1362.272058</td>\n",
       "      <td>15.806419</td>\n",
       "      <td>258.163080</td>\n",
       "      <td>2.763841</td>\n",
       "      <td>40.197828</td>\n",
       "      <td>0.580323</td>\n",
       "    </tr>\n",
       "    <tr>\n",
       "      <th>std</th>\n",
       "      <td>10.618762</td>\n",
       "      <td>3044.765829</td>\n",
       "      <td>8.322476</td>\n",
       "      <td>257.527812</td>\n",
       "      <td>3.098021</td>\n",
       "      <td>100.128746</td>\n",
       "      <td>2.303441</td>\n",
       "    </tr>\n",
       "    <tr>\n",
       "      <th>min</th>\n",
       "      <td>18.000000</td>\n",
       "      <td>-8019.000000</td>\n",
       "      <td>1.000000</td>\n",
       "      <td>0.000000</td>\n",
       "      <td>1.000000</td>\n",
       "      <td>-1.000000</td>\n",
       "      <td>0.000000</td>\n",
       "    </tr>\n",
       "    <tr>\n",
       "      <th>25%</th>\n",
       "      <td>33.000000</td>\n",
       "      <td>72.000000</td>\n",
       "      <td>8.000000</td>\n",
       "      <td>103.000000</td>\n",
       "      <td>1.000000</td>\n",
       "      <td>-1.000000</td>\n",
       "      <td>0.000000</td>\n",
       "    </tr>\n",
       "    <tr>\n",
       "      <th>50%</th>\n",
       "      <td>39.000000</td>\n",
       "      <td>448.000000</td>\n",
       "      <td>16.000000</td>\n",
       "      <td>180.000000</td>\n",
       "      <td>2.000000</td>\n",
       "      <td>-1.000000</td>\n",
       "      <td>0.000000</td>\n",
       "    </tr>\n",
       "    <tr>\n",
       "      <th>75%</th>\n",
       "      <td>48.000000</td>\n",
       "      <td>1428.000000</td>\n",
       "      <td>21.000000</td>\n",
       "      <td>319.000000</td>\n",
       "      <td>3.000000</td>\n",
       "      <td>-1.000000</td>\n",
       "      <td>0.000000</td>\n",
       "    </tr>\n",
       "    <tr>\n",
       "      <th>max</th>\n",
       "      <td>95.000000</td>\n",
       "      <td>102127.000000</td>\n",
       "      <td>31.000000</td>\n",
       "      <td>4918.000000</td>\n",
       "      <td>63.000000</td>\n",
       "      <td>871.000000</td>\n",
       "      <td>275.000000</td>\n",
       "    </tr>\n",
       "  </tbody>\n",
       "</table>\n",
       "</div>"
      ],
      "text/plain": [
       "                age        balance           day      duration      campaign  \\\n",
       "count  45211.000000   45211.000000  45211.000000  45211.000000  45211.000000   \n",
       "mean      40.936210    1362.272058     15.806419    258.163080      2.763841   \n",
       "std       10.618762    3044.765829      8.322476    257.527812      3.098021   \n",
       "min       18.000000   -8019.000000      1.000000      0.000000      1.000000   \n",
       "25%       33.000000      72.000000      8.000000    103.000000      1.000000   \n",
       "50%       39.000000     448.000000     16.000000    180.000000      2.000000   \n",
       "75%       48.000000    1428.000000     21.000000    319.000000      3.000000   \n",
       "max       95.000000  102127.000000     31.000000   4918.000000     63.000000   \n",
       "\n",
       "              pdays      previous  \n",
       "count  45211.000000  45211.000000  \n",
       "mean      40.197828      0.580323  \n",
       "std      100.128746      2.303441  \n",
       "min       -1.000000      0.000000  \n",
       "25%       -1.000000      0.000000  \n",
       "50%       -1.000000      0.000000  \n",
       "75%       -1.000000      0.000000  \n",
       "max      871.000000    275.000000  "
      ]
     },
     "execution_count": 11,
     "metadata": {},
     "output_type": "execute_result"
    }
   ],
   "source": [
    "df.describe()"
   ]
  },
  {
   "cell_type": "code",
   "execution_count": 13,
   "metadata": {
    "colab": {
     "base_uri": "https://localhost:8080/",
     "height": 617
    },
    "executionInfo": {
     "elapsed": 14,
     "status": "ok",
     "timestamp": 1736955773871,
     "user": {
      "displayName": "Nguyễn Tuấn Phát",
      "userId": "04366712349912838190"
     },
     "user_tz": -420
    },
    "id": "tmsuL3BguD2f",
    "outputId": "678cb00b-cfb5-45ce-921c-11123e56a87e"
   },
   "outputs": [
    {
     "data": {
      "text/plain": [
       "age          0\n",
       "job          0\n",
       "marital      0\n",
       "education    0\n",
       "default      0\n",
       "balance      0\n",
       "housing      0\n",
       "loan         0\n",
       "contact      0\n",
       "day          0\n",
       "month        0\n",
       "duration     0\n",
       "campaign     0\n",
       "pdays        0\n",
       "previous     0\n",
       "poutcome     0\n",
       "y            0\n",
       "dtype: int64"
      ]
     },
     "execution_count": 13,
     "metadata": {},
     "output_type": "execute_result"
    }
   ],
   "source": [
    "df.isnull().sum()"
   ]
  },
  {
   "cell_type": "markdown",
   "metadata": {
    "id": "RNxC-4PVBf66"
   },
   "source": [
    "# 2. Làm sạch dữ liệu"
   ]
  },
  {
   "cell_type": "markdown",
   "metadata": {
    "id": "Ya8_TraiCbZj"
   },
   "source": [
    "a. Xử lý trùng lắp"
   ]
  },
  {
   "cell_type": "code",
   "execution_count": 17,
   "metadata": {
    "colab": {
     "base_uri": "https://localhost:8080/"
    },
    "executionInfo": {
     "elapsed": 400,
     "status": "ok",
     "timestamp": 1736955781538,
     "user": {
      "displayName": "Nguyễn Tuấn Phát",
      "userId": "04366712349912838190"
     },
     "user_tz": -420
    },
    "id": "oosuyDYJBnzP",
    "outputId": "a99c7922-baca-4cda-c24a-ac7052ba9bf6"
   },
   "outputs": [
    {
     "data": {
      "text/plain": [
       "0"
      ]
     },
     "execution_count": 17,
     "metadata": {},
     "output_type": "execute_result"
    }
   ],
   "source": [
    "#dem so luong trung\n",
    "df.duplicated().sum()"
   ]
  },
  {
   "cell_type": "markdown",
   "metadata": {
    "id": "XvmDYOBgClWu"
   },
   "source": [
    "b. Xử lý giá trị thiếu"
   ]
  },
  {
   "cell_type": "code",
   "execution_count": 20,
   "metadata": {
    "colab": {
     "base_uri": "https://localhost:8080/"
    },
    "executionInfo": {
     "elapsed": 13,
     "status": "ok",
     "timestamp": 1736955782703,
     "user": {
      "displayName": "Nguyễn Tuấn Phát",
      "userId": "04366712349912838190"
     },
     "user_tz": -420
    },
    "id": "-u8jbwGlDQR1",
    "outputId": "67b0c19c-ab30-4441-ceac-6e53c9c1a403"
   },
   "outputs": [
    {
     "name": "stdout",
     "output_type": "stream",
     "text": [
      "age: 0\n",
      "job: 0\n",
      "marital: 0\n",
      "education: 0\n",
      "default: 0\n",
      "balance: 0\n",
      "housing: 0\n",
      "loan: 0\n",
      "contact: 0\n",
      "day: 0\n",
      "month: 0\n",
      "duration: 0\n",
      "campaign: 0\n",
      "pdays: 0\n",
      "previous: 0\n",
      "poutcome: 0\n",
      "y: 0\n"
     ]
    }
   ],
   "source": [
    "missing_data = df.isnull()\n",
    "#check lại missing value\n",
    "for col in missing_data.columns:\n",
    "  x = missing_data[col].sum()\n",
    "  print(f\"{col}: {x}\")"
   ]
  },
  {
   "cell_type": "markdown",
   "metadata": {
    "id": "tC8m14HrDSdK"
   },
   "source": [
    "c. Các giá trị chưa rõ"
   ]
  },
  {
   "cell_type": "code",
   "execution_count": 23,
   "metadata": {
    "colab": {
     "base_uri": "https://localhost:8080/"
    },
    "executionInfo": {
     "elapsed": 371,
     "status": "ok",
     "timestamp": 1736959573249,
     "user": {
      "displayName": "Nguyễn Tuấn Phát",
      "userId": "04366712349912838190"
     },
     "user_tz": -420
    },
    "id": "1Yh8QpWIubTt",
    "outputId": "a595cdf1-2678-4a55-9fe1-0f7be1441a16"
   },
   "outputs": [
    {
     "name": "stdout",
     "output_type": "stream",
     "text": [
      "age              0\n",
      "job            288\n",
      "marital          0\n",
      "education     1857\n",
      "default          0\n",
      "balance          0\n",
      "housing          0\n",
      "loan             0\n",
      "contact      13020\n",
      "day              0\n",
      "month            0\n",
      "duration         0\n",
      "campaign         0\n",
      "pdays            0\n",
      "previous         0\n",
      "poutcome     36959\n",
      "y                0\n",
      "dtype: int64\n"
     ]
    }
   ],
   "source": [
    "unknown_counts = df.apply(lambda x: x[x == 'unknown'].count())\n",
    "total_counts = df.shape[0]\n",
    "unknown_percentage = (unknown_counts / total_counts) * 100\n",
    "print(unknown_counts)"
   ]
  },
  {
   "cell_type": "code",
   "execution_count": 25,
   "metadata": {
    "colab": {
     "base_uri": "https://localhost:8080/"
    },
    "executionInfo": {
     "elapsed": 374,
     "status": "ok",
     "timestamp": 1736955787003,
     "user": {
      "displayName": "Nguyễn Tuấn Phát",
      "userId": "04366712349912838190"
     },
     "user_tz": -420
    },
    "id": "ruXEGbjYuiZK",
    "outputId": "1228cb24-0715-46d0-f2c1-7afeafd043da"
   },
   "outputs": [
    {
     "data": {
      "text/plain": [
       "(45211, 17)"
      ]
     },
     "execution_count": 25,
     "metadata": {},
     "output_type": "execute_result"
    }
   ],
   "source": [
    "df.shape"
   ]
  },
  {
   "cell_type": "code",
   "execution_count": 27,
   "metadata": {
    "colab": {
     "base_uri": "https://localhost:8080/",
     "height": 209
    },
    "executionInfo": {
     "elapsed": 587,
     "status": "ok",
     "timestamp": 1736955789053,
     "user": {
      "displayName": "Nguyễn Tuấn Phát",
      "userId": "04366712349912838190"
     },
     "user_tz": -420
    },
    "id": "LKIMZNW7uich",
    "outputId": "a0ce3f69-6542-4ece-e2dc-4092e0b54662"
   },
   "outputs": [
    {
     "data": {
      "text/plain": [
       "contact\n",
       "cellular     29285\n",
       "unknown      13020\n",
       "telephone     2906\n",
       "Name: count, dtype: int64"
      ]
     },
     "execution_count": 27,
     "metadata": {},
     "output_type": "execute_result"
    }
   ],
   "source": [
    "df.contact.value_counts()"
   ]
  },
  {
   "cell_type": "code",
   "execution_count": 29,
   "metadata": {
    "colab": {
     "base_uri": "https://localhost:8080/",
     "height": 241
    },
    "executionInfo": {
     "elapsed": 8,
     "status": "ok",
     "timestamp": 1736955790553,
     "user": {
      "displayName": "Nguyễn Tuấn Phát",
      "userId": "04366712349912838190"
     },
     "user_tz": -420
    },
    "id": "o6UAEJpYuk-3",
    "outputId": "d7948d48-6964-4e04-a770-ab50d3c5d2df"
   },
   "outputs": [
    {
     "data": {
      "text/plain": [
       "poutcome\n",
       "unknown    36959\n",
       "failure     4901\n",
       "other       1840\n",
       "success     1511\n",
       "Name: count, dtype: int64"
      ]
     },
     "execution_count": 29,
     "metadata": {},
     "output_type": "execute_result"
    }
   ],
   "source": [
    "df.poutcome.value_counts()"
   ]
  },
  {
   "cell_type": "code",
   "execution_count": 31,
   "metadata": {
    "executionInfo": {
     "elapsed": 321,
     "status": "ok",
     "timestamp": 1736959576507,
     "user": {
      "displayName": "Nguyễn Tuấn Phát",
      "userId": "04366712349912838190"
     },
     "user_tz": -420
    },
    "id": "vZVIuEF_urp5"
   },
   "outputs": [],
   "source": [
    "# xóa các giá trị unknown trong education và job\n",
    "df.drop(df[df['education'] == 'unknown'].index, inplace=True)\n",
    "df.drop(df[df['job'] == 'unknown'].index, inplace=True)"
   ]
  },
  {
   "cell_type": "code",
   "execution_count": 33,
   "metadata": {
    "colab": {
     "base_uri": "https://localhost:8080/",
     "height": 178
    },
    "executionInfo": {
     "elapsed": 10,
     "status": "ok",
     "timestamp": 1736959577976,
     "user": {
      "displayName": "Nguyễn Tuấn Phát",
      "userId": "04366712349912838190"
     },
     "user_tz": -420
    },
    "id": "DhNT3WRxurtE",
    "outputId": "b9b5ab4d-9cef-4f07-d532-e160012721dc"
   },
   "outputs": [
    {
     "data": {
      "text/plain": [
       "y\n",
       "0    38172\n",
       "1     5021\n",
       "Name: count, dtype: int64"
      ]
     },
     "execution_count": 33,
     "metadata": {},
     "output_type": "execute_result"
    }
   ],
   "source": [
    "#convert the y to 0 and 1\n",
    "df['y'] = df['y'].apply(lambda x: 1 if x == 'yes' else 0)\n",
    "df['y'].value_counts()"
   ]
  },
  {
   "cell_type": "code",
   "execution_count": 37,
   "metadata": {
    "colab": {
     "base_uri": "https://localhost:8080/"
    },
    "executionInfo": {
     "elapsed": 519,
     "status": "ok",
     "timestamp": 1736959634267,
     "user": {
      "displayName": "Nguyễn Tuấn Phát",
      "userId": "04366712349912838190"
     },
     "user_tz": -420
    },
    "id": "1WFI8iKUETYh",
    "outputId": "dcaa7422-ef43-4a15-b7a8-786a38f5c514"
   },
   "outputs": [
    {
     "name": "stdout",
     "output_type": "stream",
     "text": [
      "<class 'pandas.core.frame.DataFrame'>\n",
      "Index: 40543 entries, 0 to 45210\n",
      "Data columns (total 17 columns):\n",
      " #   Column     Non-Null Count  Dtype \n",
      "---  ------     --------------  ----- \n",
      " 0   age        40543 non-null  int64 \n",
      " 1   job        40543 non-null  object\n",
      " 2   marital    40543 non-null  object\n",
      " 3   education  40543 non-null  object\n",
      " 4   default    40543 non-null  object\n",
      " 5   balance    40543 non-null  int64 \n",
      " 6   housing    40543 non-null  object\n",
      " 7   loan       40543 non-null  object\n",
      " 8   contact    40543 non-null  object\n",
      " 9   day        40543 non-null  int64 \n",
      " 10  month      40543 non-null  object\n",
      " 11  duration   40543 non-null  int64 \n",
      " 12  campaign   40543 non-null  int64 \n",
      " 13  pdays      40543 non-null  int64 \n",
      " 14  previous   40543 non-null  int64 \n",
      " 15  poutcome   40543 non-null  object\n",
      " 16  y          40543 non-null  int64 \n",
      "dtypes: int64(8), object(9)\n",
      "memory usage: 5.6+ MB\n"
     ]
    },
    {
     "name": "stderr",
     "output_type": "stream",
     "text": [
      "C:\\Users\\acer\\AppData\\Local\\Temp\\ipykernel_6088\\3761692393.py:1: UserWarning: Boolean Series key will be reindexed to match DataFrame index.\n",
      "  new_data = df[df[\"age\"]>=20][df[\"age\"]<=60]\n"
     ]
    }
   ],
   "source": [
    "new_data = df[df[\"age\"]>=20][df[\"age\"]<=60]\n",
    "new_data = new_data[new_data[\"campaign\"]<=10]\n",
    "new_data = new_data[new_data[\"balance\"]<=20000]\n",
    "new_data = new_data[new_data[\"pdays\"]<=400]\n",
    "new_data = new_data[new_data[\"duration\"]<=2000]\n",
    "new_data = new_data[new_data[\"previous\"]<=100]\n",
    "new_data.info()"
   ]
  },
  {
   "cell_type": "code",
   "execution_count": 39,
   "metadata": {
    "colab": {
     "base_uri": "https://localhost:8080/"
    },
    "executionInfo": {
     "elapsed": 397,
     "status": "ok",
     "timestamp": 1736959640648,
     "user": {
      "displayName": "Nguyễn Tuấn Phát",
      "userId": "04366712349912838190"
     },
     "user_tz": -420
    },
    "id": "b2R_665A0fng",
    "outputId": "0ab37b4d-99d4-46f5-da77-c9fb613624a9"
   },
   "outputs": [
    {
     "name": "stdout",
     "output_type": "stream",
     "text": [
      "<class 'pandas.core.frame.DataFrame'>\n",
      "RangeIndex: 40543 entries, 0 to 40542\n",
      "Data columns (total 17 columns):\n",
      " #   Column     Non-Null Count  Dtype \n",
      "---  ------     --------------  ----- \n",
      " 0   age        40543 non-null  int64 \n",
      " 1   job        40543 non-null  object\n",
      " 2   marital    40543 non-null  object\n",
      " 3   education  40543 non-null  object\n",
      " 4   default    40543 non-null  object\n",
      " 5   balance    40543 non-null  int64 \n",
      " 6   housing    40543 non-null  object\n",
      " 7   loan       40543 non-null  object\n",
      " 8   contact    40543 non-null  object\n",
      " 9   day        40543 non-null  int64 \n",
      " 10  month      40543 non-null  object\n",
      " 11  duration   40543 non-null  int64 \n",
      " 12  campaign   40543 non-null  int64 \n",
      " 13  pdays      40543 non-null  int64 \n",
      " 14  previous   40543 non-null  int64 \n",
      " 15  poutcome   40543 non-null  object\n",
      " 16  y          40543 non-null  int64 \n",
      "dtypes: int64(8), object(9)\n",
      "memory usage: 5.3+ MB\n"
     ]
    }
   ],
   "source": [
    "df = new_data.copy()\n",
    "df.index = range(len(new_data))\n",
    "df.info()"
   ]
  },
  {
   "cell_type": "markdown",
   "metadata": {
    "id": "-r21B4orIFql"
   },
   "source": [
    "# 3. EDA"
   ]
  },
  {
   "cell_type": "code",
   "execution_count": 42,
   "metadata": {
    "colab": {
     "base_uri": "https://localhost:8080/",
     "height": 472
    },
    "executionInfo": {
     "elapsed": 421,
     "status": "ok",
     "timestamp": 1736959647534,
     "user": {
      "displayName": "Nguyễn Tuấn Phát",
      "userId": "04366712349912838190"
     },
     "user_tz": -420
    },
    "id": "M_4EMtsFJXzH",
    "outputId": "7a2d1a69-5935-40f9-96cd-8b29ecb9e890"
   },
   "outputs": [
    {
     "data": {
      "image/png": "[encoded data removed]",
      "text/plain": [
       "<Figure size 640x480 with 1 Axes>"
      ]
     },
     "metadata": {},
     "output_type": "display_data"
    }
   ],
   "source": [
    "# Phân phối của biến mục tiêu (Y))\n",
    "sns.countplot(data=df, x='y')\n",
    "plt.title('Distribution of Y')\n",
    "plt.xlabel('Y (1: Yes, 0: No)')\n",
    "plt.show()"
   ]
  },
  {
   "cell_type": "markdown",
   "metadata": {
    "id": "rV_8JNh184D0"
   },
   "source": [
    "**Nhận xét:**\n",
    "- Biểu đồ cho thấy tỷ lệ khách hàng đăng ký sử dụng tiền gửi có kỳ hạn thấp hơn tỷ lệ khách hàng không đăng ký.\n",
    "- Đây là dữ liệu mất cân bằng, ảnh hưởng đến việc xây dựng mô hình vì nó có thể dự đoán lệch về phía lớp chiếm đa số.\n",
    "- Cần xem xét kỹ các đặc trưng có ảnh hưởng lớn đến việc khách hàng đồng ý hay không."
   ]
  },
  {
   "cell_type": "markdown",
   "metadata": {
    "id": "rt42StV2ZOb5"
   },
   "source": [
    "## Phân tích tác động của biến phân loại -> biến mục tiêu (y)\n",
    "\n",
    "\n"
   ]
  },
  {
   "cell_type": "code",
   "execution_count": 46,
   "metadata": {
    "colab": {
     "base_uri": "https://localhost:8080/",
     "height": 537
    },
    "executionInfo": {
     "elapsed": 2103,
     "status": "ok",
     "timestamp": 1736959928109,
     "user": {
      "displayName": "Nguyễn Tuấn Phát",
      "userId": "04366712349912838190"
     },
     "user_tz": -420
    },
    "id": "zApKGz3sWHkR",
    "outputId": "61788119-72de-4e7c-a2ed-0548dcca9e22"
   },
   "outputs": [
    {
     "data": {
      "image/png": "[encoded data removed]",
      "text/plain": [
       "<Figure size 640x480 with 1 Axes>"
      ]
     },
     "metadata": {},
     "output_type": "display_data"
    }
   ],
   "source": [
    "# Phân tích ảnh hưởng của biến 'job' đến biến mục tiêu 'y'\n",
    "sns.countplot(data=df, x='job', hue='y')\n",
    "plt.title('Subscription by Job')\n",
    "plt.xlabel('Job')\n",
    "plt.xticks(rotation=45, ha='right') # Xoay nhãn trục x để dễ đọc\n",
    "plt.show()"
   ]
  },
  {
   "cell_type": "markdown",
   "metadata": {
    "id": "j9H7V7_wW-AW"
   },
   "source": [
    "**Nhận xét:**\n",
    "\n",
    "- Xu hướng khách hàng mà ngân hàng liên lạc đa số là quản lý, công nhân và kỹ thuật viên.\n",
    "- Trong khi đó, học sinh, nội trợ, người thất nghiệp hay freelancer ít xuất hiện hơn\n",
    "- Dữ liệu cho thấy sự chênh lệch lớn giữa các nhóm nghề, với một số nhóm chiếm ưu thế vượt trội, trong khi các nhóm khác rất ít.\n"
   ]
  },
  {
   "cell_type": "code",
   "execution_count": 49,
   "metadata": {
    "colab": {
     "base_uri": "https://localhost:8080/",
     "height": 472
    },
    "executionInfo": {
     "elapsed": 785,
     "status": "ok",
     "timestamp": 1736959937762,
     "user": {
      "displayName": "Nguyễn Tuấn Phát",
      "userId": "04366712349912838190"
     },
     "user_tz": -420
    },
    "id": "niyAxocBW6Aq",
    "outputId": "0da3377a-8bdf-45b6-8314-2d8fceb4f402"
   },
   "outputs": [
    {
     "data": {
      "image/png": "[encoded data removed]",
      "text/plain": [
       "<Figure size 640x480 with 1 Axes>"
      ]
     },
     "metadata": {},
     "output_type": "display_data"
    }
   ],
   "source": [
    "# Phân tích ảnh hưởng của biến 'marital đến biến mục tiêu 'y'\n",
    "sns.countplot(data=df, x='marital', hue='y')\n",
    "plt.title('Subscription by Marital Status')\n",
    "plt.xlabel('Marital Status')\n",
    "plt.show()"
   ]
  },
  {
   "cell_type": "markdown",
   "metadata": {
    "id": "U0sLMODQW74W"
   },
   "source": [
    "**Nhận xét:**\n",
    "- Khách hàng đa số là người đã có gia đình, thu nhập ổn định mà muốn có khoản tiết kiệm để sử dụng cho các mục đích sau này như mua nhà, sinh con, về hưu.\n",
    "- Số khách hàng độc thân chiếm thứ 2, có thể họ cần một khoản đầu tư an toàn và sinh lời tốt.\n",
    "- Khách hàng đã ly hôn chiếm số lượng thấp nhất, có thể ít có nhu cầu sử dụng các sản phẩm dịch vụ ngân hàng."
   ]
  },
  {
   "cell_type": "code",
   "execution_count": 52,
   "metadata": {
    "colab": {
     "base_uri": "https://localhost:8080/",
     "height": 472
    },
    "executionInfo": {
     "elapsed": 813,
     "status": "ok",
     "timestamp": 1736959949828,
     "user": {
      "displayName": "Nguyễn Tuấn Phát",
      "userId": "04366712349912838190"
     },
     "user_tz": -420
    },
    "id": "4kSThepQ-nI8",
    "outputId": "3b7ab4d4-400b-43d2-d6a8-0a274fd3269a"
   },
   "outputs": [
    {
     "data": {
      "image/png": "[encoded data removed]",
      "text/plain": [
       "<Figure size 640x480 with 1 Axes>"
      ]
     },
     "metadata": {},
     "output_type": "display_data"
    }
   ],
   "source": [
    "# Phân tích ảnh hưởng của biến 'education' đến biến mục tiêu 'y'\n",
    "sns.countplot(data=df, x='education', hue='y')\n",
    "plt.title('Subscription by Education')\n",
    "plt.xlabel('Education')\n",
    "plt.show()"
   ]
  },
  {
   "cell_type": "markdown",
   "metadata": {
    "id": "tQ7l-aed_BX_"
   },
   "source": [
    "**Nhận xét:**\n",
    "- Khách hàng với trình độ trung học: Đây có thể là nhóm đối tượng chính của ngân hàng, vì họ chiếm phần lớn dân số lao động.\n",
    "Ngân hàng có thể đang phục vụ nhiều khách hàng thuộc tầng lớp lao động phổ thông.\n",
    "- Khách hàng với trình độ đại học (tertiary): Đây là nhóm có thể đang giữ các công việc có thu nhập cao hơn, nhưng số lượng ít hơn so với nhóm trung học.\n",
    "- Khách hàng với trình độ tiểu học (primary): Đây có thể là nhóm ít có khả năng tiếp cận ngân hàng hoặc ít sử dụng các dịch vụ ngân hàng do hạn chế về kinh tế hoặc trình độ."
   ]
  },
  {
   "cell_type": "code",
   "execution_count": 55,
   "metadata": {
    "colab": {
     "base_uri": "https://localhost:8080/",
     "height": 472
    },
    "executionInfo": {
     "elapsed": 718,
     "status": "ok",
     "timestamp": 1736959961516,
     "user": {
      "displayName": "Nguyễn Tuấn Phát",
      "userId": "04366712349912838190"
     },
     "user_tz": -420
    },
    "id": "oXsC6B_V-o07",
    "outputId": "6c55b235-5252-4549-d90c-4c6fd32397ad"
   },
   "outputs": [
    {
     "data": {
      "image/png": "[encoded data removed]",
      "text/plain": [
       "<Figure size 640x480 with 1 Axes>"
      ]
     },
     "metadata": {},
     "output_type": "display_data"
    }
   ],
   "source": [
    "# Phân tích ảnh hưởng của biến 'default' đến biến mục tiêu 'y'\n",
    "sns.countplot(data=df, x='default', hue='y')\n",
    "plt.title('Subscription by Credit Default')\n",
    "plt.xlabel('Credit Default')\n",
    "plt.show()"
   ]
  },
  {
   "cell_type": "markdown",
   "metadata": {
    "id": "EPkeGrTF_A9K"
   },
   "source": [
    "**Nhận xét:**\n",
    "- Khách hàng không có nợ tín dụng mặc định có số lượng đồng ý nhiều hơn so với khách hàng có nợ mặc định.\n",
    "- Đây là điều đương nhiên khi khách hàng không đủ khả năng chi trả thì không thể có tài sản để gửi tiết kiệm."
   ]
  },
  {
   "cell_type": "code",
   "execution_count": 58,
   "metadata": {
    "colab": {
     "base_uri": "https://localhost:8080/",
     "height": 472
    },
    "executionInfo": {
     "elapsed": 732,
     "status": "ok",
     "timestamp": 1736959972047,
     "user": {
      "displayName": "Nguyễn Tuấn Phát",
      "userId": "04366712349912838190"
     },
     "user_tz": -420
    },
    "id": "-WuX1Bu3-qwN",
    "outputId": "2d9a9ee5-05bf-4c58-9762-8b84c654fd6e"
   },
   "outputs": [
    {
     "data": {
      "image/png": "[encoded data removed]",
      "text/plain": [
       "<Figure size 640x480 with 1 Axes>"
      ]
     },
     "metadata": {},
     "output_type": "display_data"
    }
   ],
   "source": [
    "# Phân tích ảnh hưởng của biến 'housing' đến biến mục tiêu 'y'\n",
    "sns.countplot(data=df, x='housing', hue='y')\n",
    "plt.title('Subscription by Housing Loan')\n",
    "plt.xlabel('Housing Loan')\n",
    "plt.show()"
   ]
  },
  {
   "cell_type": "markdown",
   "metadata": {
    "id": "46PabOiC_Aez"
   },
   "source": [
    "**Nhận xét:**\n",
    "- Số khách hàng có khoản vay mua nhà ít nhu cầu sử dụng dịch vụ tiền gửi có kỳ hạn hơn số khách hàng không vay mua nhà.\n",
    "- Điều này có thể hơi lạ thường tuy nhiên có thể lý giải cho vấn đề này là các khoản vay mua nhà thường rất lớn, khách hàng cần một nơi đầu tư có sinh lợi nhiều hơn như chứng khoán, tiền điện tử hơn là khoản đầu tư an toàn như tiền gửi tiết kiệm"
   ]
  },
  {
   "cell_type": "code",
   "execution_count": 61,
   "metadata": {
    "colab": {
     "base_uri": "https://localhost:8080/",
     "height": 472
    },
    "executionInfo": {
     "elapsed": 1542,
     "status": "ok",
     "timestamp": 1736959981638,
     "user": {
      "displayName": "Nguyễn Tuấn Phát",
      "userId": "04366712349912838190"
     },
     "user_tz": -420
    },
    "id": "C6hnaxKF-s9b",
    "outputId": "28d5d672-a9d7-42fc-f42d-e4247f653b98"
   },
   "outputs": [
    {
     "data": {
      "image/png": "[encoded data removed]",
      "text/plain": [
       "<Figure size 640x480 with 1 Axes>"
      ]
     },
     "metadata": {},
     "output_type": "display_data"
    }
   ],
   "source": [
    "# Phân tích ảnh hưởng của biến 'loan' đến biến mục tiêu 'y'\n",
    "sns.countplot(data=df, x='loan', hue='y')\n",
    "plt.title('Subscription by Personal Loan')\n",
    "plt.xlabel('Personal Loan')\n",
    "plt.show()"
   ]
  },
  {
   "cell_type": "markdown",
   "metadata": {
    "id": "aa2stNah-_6N"
   },
   "source": [
    "**Nhận xét:**\n",
    "- Khách hàng vay cá nhân (hay vay tiêu dùng) có tỷ lệ đồng ý thấp hơn so với khách hàng không vay.\n",
    "- Lý giải cho điều này có thể là nguồn thu nhập của họ không ổn định, họ không có nhu cầu sử dụng dịch vụ dài hạn như tiền gửi có kỳ hạn."
   ]
  },
  {
   "cell_type": "code",
   "execution_count": 64,
   "metadata": {
    "colab": {
     "base_uri": "https://localhost:8080/",
     "height": 472
    },
    "executionInfo": {
     "elapsed": 1188,
     "status": "ok",
     "timestamp": 1736959992232,
     "user": {
      "displayName": "Nguyễn Tuấn Phát",
      "userId": "04366712349912838190"
     },
     "user_tz": -420
    },
    "id": "s90v4NYA-wDr",
    "outputId": "3c151964-ccbb-4cc2-8bb0-acce7d51106e"
   },
   "outputs": [
    {
     "data": {
      "image/png": "[encoded data removed]",
      "text/plain": [
       "<Figure size 640x480 with 1 Axes>"
      ]
     },
     "metadata": {},
     "output_type": "display_data"
    }
   ],
   "source": [
    "# Phân tích ảnh hưởng của biến 'contact' đến biến mục tiêu 'y'\n",
    "sns.countplot(data=df, x='contact', hue='y')\n",
    "plt.title('Subscription by Contact Communication Type')\n",
    "plt.xlabel('Contact Communication Type')\n",
    "plt.show()\n"
   ]
  },
  {
   "cell_type": "markdown",
   "metadata": {
    "id": "B9ET5N_a-_XZ"
   },
   "source": [
    "**Nhận xét:**\n",
    "- Hình thức liên hệ \"cellular\" có tỷ lệ khách hàng đăng ký cao nhất: Điều này cho thấy việc liên hệ với khách hàng qua số di động (cellular) là một kênh hiệu quả để thúc đẩy khách hàng đăng ký dịch vụ tiền gửi có kỳ hạn. Ngân hàng nên tăng cường tiếp thị thông qua hình thức này.\n",
    "- Hình thức liên hệ \"telephone\" có tỷ lệ đăng ký thấp nhất: Điều này cho thấy khách hàng không còn sử dụng điện thoại bàn, do đó không cần thiết sử dụng đến phương thức liên hệ này.\n"
   ]
  },
  {
   "cell_type": "code",
   "execution_count": 67,
   "metadata": {
    "colab": {
     "base_uri": "https://localhost:8080/",
     "height": 472
    },
    "executionInfo": {
     "elapsed": 1995,
     "status": "ok",
     "timestamp": 1736960003020,
     "user": {
      "displayName": "Nguyễn Tuấn Phát",
      "userId": "04366712349912838190"
     },
     "user_tz": -420
    },
    "id": "MyeAV5jeHsIt",
    "outputId": "0d9d213a-9acd-4d11-f347-651154ebbad1"
   },
   "outputs": [
    {
     "data": {
      "image/png": "[encoded data removed]",
      "text/plain": [
       "<Figure size 640x480 with 1 Axes>"
      ]
     },
     "metadata": {},
     "output_type": "display_data"
    }
   ],
   "source": [
    "# Phân tích ảnh hưởng của biến 'month' đến biến mục tiêu 'y'\n",
    "sns.countplot(data=df, x='month', hue='y')\n",
    "plt.title('Subscription by Month')\n",
    "plt.xlabel('Month')\n",
    "plt.show()"
   ]
  },
  {
   "cell_type": "markdown",
   "metadata": {
    "id": "eB0avKM5-5wv"
   },
   "source": [
    "**Nhận xét:**\n",
    "- Tháng 5 có số lượng đăng ký cao nhất: Điều này cho thấy tháng 5 là tháng có chiến dịch marketing hiệu quả nhất hoặc có một sự kiện đặc biệt nào đó đã thúc đẩy khách hàng đăng ký.\n",
    "Xu hướng giảm dần sau tháng 5:\n",
    "- Sau đỉnh điểm ở tháng 5, số lượng đăng ký có xu hướng giảm dần cho đến cuối năm. Tuy nhiên, có một số tháng xuất hiện các đợt tăng nhẹ như tháng 7, 10, 1 và 4.\n",
    "- Sự biến động theo mùa: Biểu đồ cho thấy có thể tồn tại một yếu tố mùa vụ ảnh hưởng đến quyết định đăng ký của khách hàng. Ví dụ, các tháng cuối năm thường có nhiều hoạt động khuyến mãi, nên số lượng đăng ký có thể tăng nhẹ so với các tháng khác."
   ]
  },
  {
   "cell_type": "code",
   "execution_count": 70,
   "metadata": {
    "colab": {
     "base_uri": "https://localhost:8080/",
     "height": 472
    },
    "executionInfo": {
     "elapsed": 745,
     "status": "ok",
     "timestamp": 1736960012621,
     "user": {
      "displayName": "Nguyễn Tuấn Phát",
      "userId": "04366712349912838190"
     },
     "user_tz": -420
    },
    "id": "CJssWadec7YX",
    "outputId": "87ab8760-e76b-49c3-8e5f-f0099b64ac88"
   },
   "outputs": [
    {
     "data": {
      "image/png": "[encoded data removed]",
      "text/plain": [
       "<Figure size 640x480 with 1 Axes>"
      ]
     },
     "metadata": {},
     "output_type": "display_data"
    }
   ],
   "source": [
    "# Phân tích ảnh hưởng của biến 'poutcome' đến biến mục tiêu 'y'\n",
    "sns.countplot(data=df, x='poutcome', hue='y')\n",
    "plt.title('Subscription by Poutcome')\n",
    "plt.xlabel('Poutcome')\n",
    "plt.show()"
   ]
  },
  {
   "cell_type": "markdown",
   "metadata": {
    "id": "NBXShGyjdm3m"
   },
   "source": [
    "**Nhận xét:**\n",
    "- Kết quả \"unknown\" chiếm tỷ lệ lớn nhất và có số lượng khách hàng đăng ký cao nhất: Điều này có thể cho thấy rằng nhiều khách hàng không có thông tin về các chiến dịch marketing trước đó hoặc thông tin này không được ghi lại đầy đủ. Tuy nhiên, nhóm khách hàng này lại có khả năng đăng ký dịch vụ mới cao nhất.\n",
    "- Kết quả \"failure\" có số lượng khách hàng đăng ký thấp hơn so với \"unknown\" nhưng vẫn cao hơn các kết quả còn lại: Điều này cho thấy những khách hàng đã từng tham gia các chiến dịch không thành công vẫn có khả năng đăng ký dịch vụ mới, mặc dù tỷ lệ thấp hơn.\n",
    "- Kết quả \"success\" và \"other\" có số lượng khách hàng đăng ký thấp nhất: Điều này cho thấy những khách hàng đã từng tham gia các chiến dịch thành công hoặc các chiến dịch khác có khả năng đăng ký dịch vụ mới thấp nhất."
   ]
  },
  {
   "cell_type": "markdown",
   "metadata": {
    "id": "edjC3hkr-9t9"
   },
   "source": [
    "## Phân tích các tác động của biến số -> biến mục tiêu (y)"
   ]
  },
  {
   "cell_type": "code",
   "execution_count": 74,
   "metadata": {
    "colab": {
     "base_uri": "https://localhost:8080/",
     "height": 564
    },
    "executionInfo": {
     "elapsed": 405,
     "status": "ok",
     "timestamp": 1736960022705,
     "user": {
      "displayName": "Nguyễn Tuấn Phát",
      "userId": "04366712349912838190"
     },
     "user_tz": -420
    },
    "id": "lRF2GiXjZBBY",
    "outputId": "22e3d479-c59b-4174-b24a-098250576159"
   },
   "outputs": [
    {
     "data": {
      "image/png": "[encoded data removed]",
      "text/plain": [
       "<Figure size 1000x600 with 1 Axes>"
      ]
     },
     "metadata": {},
     "output_type": "display_data"
    }
   ],
   "source": [
    "# Kiểm tra tác động của biến 'age' đến biến 'y'\n",
    "plt.figure(figsize=(10, 6))\n",
    "sns.boxplot(data=df, x='y', y='age')\n",
    "plt.title('Age Distribution by Subscription Status')\n",
    "plt.show()"
   ]
  },
  {
   "cell_type": "markdown",
   "metadata": {
    "id": "q3cXpbhi_MMs"
   },
   "source": [
    "**Nhận xét:**\n",
    "- Giá trị trung vị của hai nhóm khá gần nhau: Điều này cho thấy rằng về mặt trung bình, không có sự khác biệt đáng kể về độ tuổi giữa hai nhóm khách hàng đăng ký và chưa đăng ký.\n",
    "- Khoảng biến thiên của hai nhóm tương đối giống nhau: Điều này cho thấy rằng sự phân tán của dữ liệu về độ tuổi trong cả hai nhóm là tương đồng."
   ]
  },
  {
   "cell_type": "code",
   "execution_count": 77,
   "metadata": {
    "colab": {
     "base_uri": "https://localhost:8080/",
     "height": 564
    },
    "executionInfo": {
     "elapsed": 930,
     "status": "ok",
     "timestamp": 1736960232639,
     "user": {
      "displayName": "Nguyễn Tuấn Phát",
      "userId": "04366712349912838190"
     },
     "user_tz": -420
    },
    "id": "3gugYrC8sHFM",
    "outputId": "a9002359-1901-45ee-ccb0-a221ea45ff17"
   },
   "outputs": [
    {
     "data": {
      "image/png": "[encoded data removed]",
      "text/plain": [
       "<Figure size 1000x600 with 1 Axes>"
      ]
     },
     "metadata": {},
     "output_type": "display_data"
    }
   ],
   "source": [
    "# Kiểm tra tác động của biến 'balance' đến biến 'y'\n",
    "plt.figure(figsize=(10, 6))\n",
    "sns.scatterplot(x='balance', y='y', data=df) # Sử dụng scatterplot thay vì boxplot\n",
    "plt.title('Balance vs Subscription Status')\n",
    "plt.xlabel('Balance')\n",
    "plt.ylabel('Subscription Status (0=No, 1=Yes)')\n",
    "plt.show()"
   ]
  },
  {
   "cell_type": "markdown",
   "metadata": {
    "id": "adsNaLi9_M0z"
   },
   "source": [
    "**Nhận xét:**\n",
    "- Giải thích về khách hàng có số dư tài khoản thấp không đăng ký dịch vụ: thấy rằng khách hàng thường không có nhu cầu hoặc khả năng chi trả cho các dịch vụ bổ sung.\n",
    "- Một số lượng nhỏ khách hàng có số dư tài khoản cao cũng không đăng ký dịch vụ: Có thể có nhiều lý do cho điều này, chẳng hạn như:\n",
    "  - Họ đã có đủ các dịch vụ cần thiết\n",
    "  - Họ không quan tâm đến các dịch vụ được cung cấp\n",
    "  - Có thể có các yếu tố khác (không được thể hiện trên biểu đồ) ảnh hưởng đến quyết định đăng ký của họ.\n",
    "- Một số lượng nhỏ khách hàng có số dư tài khoản cao đã đăng ký dịch vụ: Điều này cho thấy rằng số dư tài khoản cao không phải là yếu tố quyết định duy nhất cho việc đăng ký dịch vụ. Có thể có các yếu tố khác như nhu cầu cá nhân, chiến dịch marketing, hoặc các ưu đãi đặc biệt đã tác động đến quyết định của họ."
   ]
  },
  {
   "cell_type": "code",
   "execution_count": 80,
   "metadata": {
    "colab": {
     "base_uri": "https://localhost:8080/",
     "height": 564
    },
    "executionInfo": {
     "elapsed": 2293,
     "status": "ok",
     "timestamp": 1736960268955,
     "user": {
      "displayName": "Nguyễn Tuấn Phát",
      "userId": "04366712349912838190"
     },
     "user_tz": -420
    },
    "id": "JLPEed4t-S7a",
    "outputId": "c4d7b6a4-92aa-42c0-cd88-771e2da2aee6"
   },
   "outputs": [
    {
     "data": {
      "image/png": "[encoded data removed]",
      "text/plain": [
       "<Figure size 1000x600 with 1 Axes>"
      ]
     },
     "metadata": {},
     "output_type": "display_data"
    }
   ],
   "source": [
    "# Kiểm tra tác động của biến 'day' đến biến 'y'\n",
    "plt.figure(figsize=(10, 6))\n",
    "sns.boxplot(x='y', y='day', data=df)\n",
    "plt.title('Day Distribution by Subscription Status')\n",
    "plt.show()"
   ]
  },
  {
   "cell_type": "markdown",
   "metadata": {
    "id": "1nfxer2g_NZv"
   },
   "source": [
    "**Nhận xét:**\n",
    "- Giá trị trung vị của hai nhóm khá gần nhau: Điều này cho thấy rằng về mặt trung bình, không có sự khác biệt đáng kể về \"ngày\" giữa hai nhóm khách hàng đăng ký và chưa đăng ký.\n",
    "- Khoảng biến thiên của hai nhóm tương đối giống nhau: Điều này cho thấy rằng sự phân tán của dữ liệu về \"ngày\" trong cả hai nhóm là tương đồng.\n",
    "- Không có các giá trị ngoại lai, cho thấy dữ liệu không cần xử lý vấn đề về outliers"
   ]
  },
  {
   "cell_type": "code",
   "execution_count": 83,
   "metadata": {
    "colab": {
     "base_uri": "https://localhost:8080/",
     "height": 564
    },
    "executionInfo": {
     "elapsed": 417,
     "status": "ok",
     "timestamp": 1736960349533,
     "user": {
      "displayName": "Nguyễn Tuấn Phát",
      "userId": "04366712349912838190"
     },
     "user_tz": -420
    },
    "id": "wIkeUaW4rFbA",
    "outputId": "b6e46ef8-5066-45ed-ade1-8d9cbcbff12d"
   },
   "outputs": [
    {
     "data": {
      "image/png": "[encoded data removed]",
      "text/plain": [
       "<Figure size 1000x600 with 1 Axes>"
      ]
     },
     "metadata": {},
     "output_type": "display_data"
    }
   ],
   "source": [
    "# Kiểm tra tác động của biến 'duration' đến biến 'y'\n",
    "plt.figure(figsize=(10, 6))\n",
    "sns.boxplot(x='y', y='duration', data=df)\n",
    "plt.title('Duration Distribution by Subscription Status')\n",
    "plt.show()"
   ]
  },
  {
   "cell_type": "markdown",
   "metadata": {
    "id": "x_2hweaj_OGr"
   },
   "source": [
    "**Nhận xét:**\n",
    "- Hầu hết khách hàng có thời gian tương tác ngắn không đăng ký: Điều này cho thấy rằng thời gian tương tác ngắn có thể chưa đủ để thuyết phục khách hàng đăng ký dịch vụ.\n",
    "- Một số lượng nhỏ khách hàng có thời gian tương tác dài cũng không đăng ký: Có thể có nhiều lý do cho điều này, chẳng hạn như:\n",
    "  - Họ đã có đủ thông tin nhưng vẫn chưa sẵn sàng đăng ký.\n",
    "  - Họ không hài lòng với dịch vụ.\n",
    "  - Có thể có các yếu tố khác (không được thể hiện trên biểu đồ) ảnh hưởng đến quyết định đăng ký của họ.\n",
    "- Một số lượng nhỏ khách hàng có thời gian tương tác dài đã đăng ký: Điều này cho thấy rằng thời gian tương tác dài có thể là một yếu tố tích cực, nhưng không phải là yếu tố quyết định duy nhất."
   ]
  },
  {
   "cell_type": "code",
   "execution_count": 86,
   "metadata": {
    "colab": {
     "base_uri": "https://localhost:8080/",
     "height": 564
    },
    "executionInfo": {
     "elapsed": 2638,
     "status": "ok",
     "timestamp": 1736960733050,
     "user": {
      "displayName": "Nguyễn Tuấn Phát",
      "userId": "04366712349912838190"
     },
     "user_tz": -420
    },
    "id": "k1Nrf4H3sac_",
    "outputId": "cfa1e402-4a18-441a-ea64-293904a52756"
   },
   "outputs": [
    {
     "data": {
      "image/png": "[encoded data removed]",
      "text/plain": [
       "<Figure size 1000x600 with 1 Axes>"
      ]
     },
     "metadata": {},
     "output_type": "display_data"
    }
   ],
   "source": [
    "# Kiểm tra tác động của biến 'Campaign' đến biến 'y'\n",
    "plt.figure(figsize=(10, 6))\n",
    "sns.boxplot(x='y', y='campaign', data=df)\n",
    "plt.title('Campaign Distribution by Subscription Status')\n",
    "plt.show()"
   ]
  },
  {
   "cell_type": "markdown",
   "metadata": {
    "id": "dyqJYTf9_Oq8"
   },
   "source": [
    "**Nhận xét:**\n",
    "- Đa phần dữ liệu sẽ phân bó từ 1 -> 3.\n",
    "- Khách hàng nhận được 1 -> 3 cuộc gọi thường sẽ đăng ký cho thấy việc đã đăng ký sẽ xảy ra khi có nhu cầu và sau 1 2 lần sẽ quyết định\n",
    "- Còn đối với khách hàng đã vốn không có nhu cầu thì ngân hàng sẽ khuyến khích gọi lại nhằm thuyêt phục nhưng phần này không nhiều vì cũng có thể khách tỏ ra khó chịu"
   ]
  },
  {
   "cell_type": "code",
   "execution_count": 89,
   "metadata": {
    "colab": {
     "base_uri": "https://localhost:8080/",
     "height": 564
    },
    "executionInfo": {
     "elapsed": 1925,
     "status": "ok",
     "timestamp": 1736960886024,
     "user": {
      "displayName": "Nguyễn Tuấn Phát",
      "userId": "04366712349912838190"
     },
     "user_tz": -420
    },
    "id": "VAGiN9-T-Y5V",
    "outputId": "eb46241b-1b64-4153-f11e-8a0bc07cee7c"
   },
   "outputs": [
    {
     "data": {
      "image/png": "[encoded data removed]",
      "text/plain": [
       "<Figure size 1000x600 with 1 Axes>"
      ]
     },
     "metadata": {},
     "output_type": "display_data"
    }
   ],
   "source": [
    "# Kiểm tra tác động của biến 'pdays' đến biến 'y'\n",
    "plt.figure(figsize=(10, 6))\n",
    "sns.boxplot(x='y', y='pdays', data=df)\n",
    "plt.title('Pdays Distribution by Subscription Status')\n",
    "plt.show()"
   ]
  },
  {
   "cell_type": "markdown",
   "metadata": {
    "id": "aGfexxHV_PLl"
   },
   "source": [
    "**Nhận xét:**\n",
    "- Đa phần khách hàng ở phần không đăng ký sẽ nằm ở phân khúc chưa được liên hệ nên phần lớn ngoại lai sẽ phân bố từ 0 trở lên"
   ]
  },
  {
   "cell_type": "code",
   "execution_count": 92,
   "metadata": {
    "colab": {
     "base_uri": "https://localhost:8080/",
     "height": 564
    },
    "executionInfo": {
     "elapsed": 807,
     "status": "ok",
     "timestamp": 1736961134185,
     "user": {
      "displayName": "Nguyễn Tuấn Phát",
      "userId": "04366712349912838190"
     },
     "user_tz": -420
    },
    "id": "KaMAHvJ69vBF",
    "outputId": "38105726-f389-41fc-d999-af11f86a9a3f"
   },
   "outputs": [
    {
     "data": {
      "image/png": "[encoded data removed]",
      "text/plain": [
       "<Figure size 1000x600 with 1 Axes>"
      ]
     },
     "metadata": {},
     "output_type": "display_data"
    }
   ],
   "source": [
    "# Kiểm tra tác động của biến 'Previous' đến biến 'y'\n",
    "plt.figure(figsize=(10, 6))\n",
    "sns.boxplot(x='y', y='previous', data=df)\n",
    "plt.title('Previous vs Subscription Status')\n",
    "plt.xlabel('Subscription Status (0: No, 1: Yes)')\n",
    "plt.ylabel('Previous')\n",
    "plt.show()"
   ]
  },
  {
   "cell_type": "markdown",
   "metadata": {
    "id": "J56i86Tv_P6B"
   },
   "source": [
    "**Nhận xét:**\n",
    "- Số cuộc gọi trước đó đối với khách hàng đã đăng ký khá ít từ 1 đến dưới 3 cuộc gọi. Dễ hiểu khi đã đồng ý đăng ký sẽ ít cuộc gọi liên hệ để quảng bá sản phẩm hơn.\n",
    "- Còn về các cuộc gọi thì cũng tương tự campaign là đa phần khách hàng chưa được liên hệ trước đó"
   ]
  },
  {
   "cell_type": "markdown",
   "metadata": {
    "id": "WRufHKG6__Kk"
   },
   "source": [
    "# 4. Feature Engineering"
   ]
  },
  {
   "cell_type": "code",
   "execution_count": 96,
   "metadata": {
    "executionInfo": {
     "elapsed": 352,
     "status": "ok",
     "timestamp": 1736961285254,
     "user": {
      "displayName": "Nguyễn Tuấn Phát",
      "userId": "04366712349912838190"
     },
     "user_tz": -420
    },
    "id": "21R8Ioi4uupE"
   },
   "outputs": [],
   "source": [
    "df['job'] = df['job'].map({\n",
    "    'admin.': 0, 'blue-collar': 1, 'entrepreneur': 2, 'housemaid': 3,\n",
    "    'management': 4, 'retired': 5, 'self-employed': 6, 'services': 7,\n",
    "    'student': 8, 'technician': 9, 'unemployed': 10})\n",
    "df['marital'] = df['marital'].map({'married': 0, 'single': 1, 'divorced': 2})\n",
    "df['education'] = df['education'].map({'primary': 0, 'secondary': 1, 'tertiary': 2})\n",
    "\n",
    "df['default'] = df['default'].map({'no': 0, 'yes': 1})\n",
    "df['housing'] = df['housing'].map({'no': 0, 'yes': 1})\n",
    "df['loan'] = df['loan'].map({'no': 0, 'yes': 1})\n",
    "df['contact'] = df['contact'].map({'cellular': 0, 'telephone': 1, 'unknown': 2})\n",
    "df['month'] = df['month'].map({\n",
    "    'jan': 0, 'feb': 1, 'mar': 2, 'apr': 3, 'may': 4, 'jun': 5,\n",
    "    'jul': 6, 'aug': 7, 'sep': 8, 'oct': 9, 'nov': 10, 'dec': 11\n",
    "})\n",
    "df['poutcome'] = df['poutcome'].map({'failure': 0, 'other': 1, 'success': 2, 'unknown': 3})"
   ]
  },
  {
   "cell_type": "code",
   "execution_count": 98,
   "metadata": {
    "colab": {
     "base_uri": "https://localhost:8080/",
     "height": 226
    },
    "executionInfo": {
     "elapsed": 343,
     "status": "ok",
     "timestamp": 1736961288079,
     "user": {
      "displayName": "Nguyễn Tuấn Phát",
      "userId": "04366712349912838190"
     },
     "user_tz": -420
    },
    "id": "m12NN0Ezu0Zo",
    "outputId": "fe3da2b8-21f0-4be1-9e51-efbc4f82cc7f"
   },
   "outputs": [
    {
     "data": {
      "text/html": [
       "<div>\n",
       "<style scoped>\n",
       "    .dataframe tbody tr th:only-of-type {\n",
       "        vertical-align: middle;\n",
       "    }\n",
       "\n",
       "    .dataframe tbody tr th {\n",
       "        vertical-align: top;\n",
       "    }\n",
       "\n",
       "    .dataframe thead th {\n",
       "        text-align: right;\n",
       "    }\n",
       "</style>\n",
       "<table border=\"1\" class=\"dataframe\">\n",
       "  <thead>\n",
       "    <tr style=\"text-align: right;\">\n",
       "      <th></th>\n",
       "      <th>age</th>\n",
       "      <th>job</th>\n",
       "      <th>marital</th>\n",
       "      <th>education</th>\n",
       "      <th>default</th>\n",
       "      <th>balance</th>\n",
       "      <th>housing</th>\n",
       "      <th>loan</th>\n",
       "      <th>contact</th>\n",
       "      <th>day</th>\n",
       "      <th>month</th>\n",
       "      <th>duration</th>\n",
       "      <th>campaign</th>\n",
       "      <th>pdays</th>\n",
       "      <th>previous</th>\n",
       "      <th>poutcome</th>\n",
       "      <th>y</th>\n",
       "    </tr>\n",
       "  </thead>\n",
       "  <tbody>\n",
       "    <tr>\n",
       "      <th>0</th>\n",
       "      <td>58</td>\n",
       "      <td>4</td>\n",
       "      <td>0</td>\n",
       "      <td>2</td>\n",
       "      <td>0</td>\n",
       "      <td>2143</td>\n",
       "      <td>1</td>\n",
       "      <td>0</td>\n",
       "      <td>2</td>\n",
       "      <td>5</td>\n",
       "      <td>4</td>\n",
       "      <td>261</td>\n",
       "      <td>1</td>\n",
       "      <td>-1</td>\n",
       "      <td>0</td>\n",
       "      <td>3</td>\n",
       "      <td>0</td>\n",
       "    </tr>\n",
       "    <tr>\n",
       "      <th>1</th>\n",
       "      <td>44</td>\n",
       "      <td>9</td>\n",
       "      <td>1</td>\n",
       "      <td>1</td>\n",
       "      <td>0</td>\n",
       "      <td>29</td>\n",
       "      <td>1</td>\n",
       "      <td>0</td>\n",
       "      <td>2</td>\n",
       "      <td>5</td>\n",
       "      <td>4</td>\n",
       "      <td>151</td>\n",
       "      <td>1</td>\n",
       "      <td>-1</td>\n",
       "      <td>0</td>\n",
       "      <td>3</td>\n",
       "      <td>0</td>\n",
       "    </tr>\n",
       "    <tr>\n",
       "      <th>2</th>\n",
       "      <td>33</td>\n",
       "      <td>2</td>\n",
       "      <td>0</td>\n",
       "      <td>1</td>\n",
       "      <td>0</td>\n",
       "      <td>2</td>\n",
       "      <td>1</td>\n",
       "      <td>1</td>\n",
       "      <td>2</td>\n",
       "      <td>5</td>\n",
       "      <td>4</td>\n",
       "      <td>76</td>\n",
       "      <td>1</td>\n",
       "      <td>-1</td>\n",
       "      <td>0</td>\n",
       "      <td>3</td>\n",
       "      <td>0</td>\n",
       "    </tr>\n",
       "    <tr>\n",
       "      <th>3</th>\n",
       "      <td>35</td>\n",
       "      <td>4</td>\n",
       "      <td>0</td>\n",
       "      <td>2</td>\n",
       "      <td>0</td>\n",
       "      <td>231</td>\n",
       "      <td>1</td>\n",
       "      <td>0</td>\n",
       "      <td>2</td>\n",
       "      <td>5</td>\n",
       "      <td>4</td>\n",
       "      <td>139</td>\n",
       "      <td>1</td>\n",
       "      <td>-1</td>\n",
       "      <td>0</td>\n",
       "      <td>3</td>\n",
       "      <td>0</td>\n",
       "    </tr>\n",
       "    <tr>\n",
       "      <th>4</th>\n",
       "      <td>28</td>\n",
       "      <td>4</td>\n",
       "      <td>1</td>\n",
       "      <td>2</td>\n",
       "      <td>0</td>\n",
       "      <td>447</td>\n",
       "      <td>1</td>\n",
       "      <td>1</td>\n",
       "      <td>2</td>\n",
       "      <td>5</td>\n",
       "      <td>4</td>\n",
       "      <td>217</td>\n",
       "      <td>1</td>\n",
       "      <td>-1</td>\n",
       "      <td>0</td>\n",
       "      <td>3</td>\n",
       "      <td>0</td>\n",
       "    </tr>\n",
       "  </tbody>\n",
       "</table>\n",
       "</div>"
      ],
      "text/plain": [
       "   age  job  marital  education  default  balance  housing  loan  contact  \\\n",
       "0   58    4        0          2        0     2143        1     0        2   \n",
       "1   44    9        1          1        0       29        1     0        2   \n",
       "2   33    2        0          1        0        2        1     1        2   \n",
       "3   35    4        0          2        0      231        1     0        2   \n",
       "4   28    4        1          2        0      447        1     1        2   \n",
       "\n",
       "   day  month  duration  campaign  pdays  previous  poutcome  y  \n",
       "0    5      4       261         1     -1         0         3  0  \n",
       "1    5      4       151         1     -1         0         3  0  \n",
       "2    5      4        76         1     -1         0         3  0  \n",
       "3    5      4       139         1     -1         0         3  0  \n",
       "4    5      4       217         1     -1         0         3  0  "
      ]
     },
     "execution_count": 98,
     "metadata": {},
     "output_type": "execute_result"
    }
   ],
   "source": [
    "df.head()"
   ]
  },
  {
   "cell_type": "code",
   "execution_count": 100,
   "metadata": {
    "colab": {
     "base_uri": "https://localhost:8080/",
     "height": 840
    },
    "executionInfo": {
     "elapsed": 2037,
     "status": "ok",
     "timestamp": 1736961294903,
     "user": {
      "displayName": "Nguyễn Tuấn Phát",
      "userId": "04366712349912838190"
     },
     "user_tz": -420
    },
    "id": "OBRFuCoeu31V",
    "outputId": "244ab4be-3223-4fd8-8926-ad58aadeb38e"
   },
   "outputs": [
    {
     "data": {
      "image/png": "[encoded data removed]",
      "text/plain": [
       "<Figure size 2000x1500 with 2 Axes>"
      ]
     },
     "metadata": {},
     "output_type": "display_data"
    }
   ],
   "source": [
    "# Ma trận tương quan\n",
    "plt.figure(figsize=(20,15))\n",
    "sns.heatmap(df.corr(), annot=True, cmap='coolwarm', linewidths=.5)\n",
    "plt.show()"
   ]
  },
  {
   "cell_type": "markdown",
   "metadata": {
    "id": "Y5Uh2T9rCYF8"
   },
   "source": [
    "# 5. Modeling"
   ]
  },
  {
   "cell_type": "markdown",
   "metadata": {
    "id": "hFBXNKL2nfYa"
   },
   "source": [
    "## Sử dụng thuật toán Logistic Regression"
   ]
  },
  {
   "cell_type": "code",
   "execution_count": 104,
   "metadata": {
    "executionInfo": {
     "elapsed": 456,
     "status": "ok",
     "timestamp": 1736961303941,
     "user": {
      "displayName": "Nguyễn Tuấn Phát",
      "userId": "04366712349912838190"
     },
     "user_tz": -420
    },
    "id": "L9gDsb97u5ir"
   },
   "outputs": [],
   "source": [
    "X = df.drop('y', axis=1)\n",
    "y = df['y']\n",
    "X_train, X_test, y_train, y_test = train_test_split(X, y, test_size=0.2, random_state=42)"
   ]
  },
  {
   "cell_type": "code",
   "execution_count": 106,
   "metadata": {
    "colab": {
     "base_uri": "https://localhost:8080/",
     "height": 245
    },
    "executionInfo": {
     "elapsed": 3883,
     "status": "ok",
     "timestamp": 1736961309019,
     "user": {
      "displayName": "Nguyễn Tuấn Phát",
      "userId": "04366712349912838190"
     },
     "user_tz": -420
    },
    "id": "zwWOWk2FvkFy",
    "outputId": "4f4d2b9a-321c-447d-9959-62463fe61888"
   },
   "outputs": [
    {
     "name": "stderr",
     "output_type": "stream",
     "text": [
      "E:\\py\\Lib\\site-packages\\sklearn\\linear_model\\_logistic.py:469: ConvergenceWarning: lbfgs failed to converge (status=1):\n",
      "STOP: TOTAL NO. of ITERATIONS REACHED LIMIT.\n",
      "\n",
      "Increase the number of iterations (max_iter) or scale the data as shown in:\n",
      "    https://scikit-learn.org/stable/modules/preprocessing.html\n",
      "Please also refer to the documentation for alternative solver options:\n",
      "    https://scikit-learn.org/stable/modules/linear_model.html#logistic-regression\n",
      "  n_iter_i = _check_optimize_result(\n"
     ]
    },
    {
     "data": {
      "text/html": [
       "<style>#sk-container-id-1 {\n",
       "  /* Definition of color scheme common for light and dark mode */\n",
       "  --sklearn-color-text: black;\n",
       "  --sklearn-color-line: gray;\n",
       "  /* Definition of color scheme for unfitted estimators */\n",
       "  --sklearn-color-unfitted-level-0: #fff5e6;\n",
       "  --sklearn-color-unfitted-level-1: #f6e4d2;\n",
       "  --sklearn-color-unfitted-level-2: #ffe0b3;\n",
       "  --sklearn-color-unfitted-level-3: chocolate;\n",
       "  /* Definition of color scheme for fitted estimators */\n",
       "  --sklearn-color-fitted-level-0: #f0f8ff;\n",
       "  --sklearn-color-fitted-level-1: #d4ebff;\n",
       "  --sklearn-color-fitted-level-2: #b3dbfd;\n",
       "  --sklearn-color-fitted-level-3: cornflowerblue;\n",
       "\n",
       "  /* Specific color for light theme */\n",
       "  --sklearn-color-text-on-default-background: var(--sg-text-color, var(--theme-code-foreground, var(--jp-content-font-color1, black)));\n",
       "  --sklearn-color-background: var(--sg-background-color, var(--theme-background, var(--jp-layout-color0, white)));\n",
       "  --sklearn-color-border-box: var(--sg-text-color, var(--theme-code-foreground, var(--jp-content-font-color1, black)));\n",
       "  --sklearn-color-icon: #696969;\n",
       "\n",
       "  @media (prefers-color-scheme: dark) {\n",
       "    /* Redefinition of color scheme for dark theme */\n",
       "    --sklearn-color-text-on-default-background: var(--sg-text-color, var(--theme-code-foreground, var(--jp-content-font-color1, white)));\n",
       "    --sklearn-color-background: var(--sg-background-color, var(--theme-background, var(--jp-layout-color0, #111)));\n",
       "    --sklearn-color-border-box: var(--sg-text-color, var(--theme-code-foreground, var(--jp-content-font-color1, white)));\n",
       "    --sklearn-color-icon: #878787;\n",
       "  }\n",
       "}\n",
       "\n",
       "#sk-container-id-1 {\n",
       "  color: var(--sklearn-color-text);\n",
       "}\n",
       "\n",
       "#sk-container-id-1 pre {\n",
       "  padding: 0;\n",
       "}\n",
       "\n",
       "#sk-container-id-1 input.sk-hidden--visually {\n",
       "  border: 0;\n",
       "  clip: rect(1px 1px 1px 1px);\n",
       "  clip: rect(1px, 1px, 1px, 1px);\n",
       "  height: 1px;\n",
       "  margin: -1px;\n",
       "  overflow: hidden;\n",
       "  padding: 0;\n",
       "  position: absolute;\n",
       "  width: 1px;\n",
       "}\n",
       "\n",
       "#sk-container-id-1 div.sk-dashed-wrapped {\n",
       "  border: 1px dashed var(--sklearn-color-line);\n",
       "  margin: 0 0.4em 0.5em 0.4em;\n",
       "  box-sizing: border-box;\n",
       "  padding-bottom: 0.4em;\n",
       "  background-color: var(--sklearn-color-background);\n",
       "}\n",
       "\n",
       "#sk-container-id-1 div.sk-container {\n",
       "  /* jupyter's `normalize.less` sets `[hidden] { display: none; }`\n",
       "     but bootstrap.min.css set `[hidden] { display: none !important; }`\n",
       "     so we also need the `!important` here to be able to override the\n",
       "     default hidden behavior on the sphinx rendered scikit-learn.org.\n",
       "     See: https://github.com/scikit-learn/scikit-learn/issues/21755 */\n",
       "  display: inline-block !important;\n",
       "  position: relative;\n",
       "}\n",
       "\n",
       "#sk-container-id-1 div.sk-text-repr-fallback {\n",
       "  display: none;\n",
       "}\n",
       "\n",
       "div.sk-parallel-item,\n",
       "div.sk-serial,\n",
       "div.sk-item {\n",
       "  /* draw centered vertical line to link estimators */\n",
       "  background-image: linear-gradient(var(--sklearn-color-text-on-default-background), var(--sklearn-color-text-on-default-background));\n",
       "  background-size: 2px 100%;\n",
       "  background-repeat: no-repeat;\n",
       "  background-position: center center;\n",
       "}\n",
       "\n",
       "/* Parallel-specific style estimator block */\n",
       "\n",
       "#sk-container-id-1 div.sk-parallel-item::after {\n",
       "  content: \"\";\n",
       "  width: 100%;\n",
       "  border-bottom: 2px solid var(--sklearn-color-text-on-default-background);\n",
       "  flex-grow: 1;\n",
       "}\n",
       "\n",
       "#sk-container-id-1 div.sk-parallel {\n",
       "  display: flex;\n",
       "  align-items: stretch;\n",
       "  justify-content: center;\n",
       "  background-color: var(--sklearn-color-background);\n",
       "  position: relative;\n",
       "}\n",
       "\n",
       "#sk-container-id-1 div.sk-parallel-item {\n",
       "  display: flex;\n",
       "  flex-direction: column;\n",
       "}\n",
       "\n",
       "#sk-container-id-1 div.sk-parallel-item:first-child::after {\n",
       "  align-self: flex-end;\n",
       "  width: 50%;\n",
       "}\n",
       "\n",
       "#sk-container-id-1 div.sk-parallel-item:last-child::after {\n",
       "  align-self: flex-start;\n",
       "  width: 50%;\n",
       "}\n",
       "\n",
       "#sk-container-id-1 div.sk-parallel-item:only-child::after {\n",
       "  width: 0;\n",
       "}\n",
       "\n",
       "/* Serial-specific style estimator block */\n",
       "\n",
       "#sk-container-id-1 div.sk-serial {\n",
       "  display: flex;\n",
       "  flex-direction: column;\n",
       "  align-items: center;\n",
       "  background-color: var(--sklearn-color-background);\n",
       "  padding-right: 1em;\n",
       "  padding-left: 1em;\n",
       "}\n",
       "\n",
       "\n",
       "/* Toggleable style: style used for estimator/Pipeline/ColumnTransformer box that is\n",
       "clickable and can be expanded/collapsed.\n",
       "- Pipeline and ColumnTransformer use this feature and define the default style\n",
       "- Estimators will overwrite some part of the style using the `sk-estimator` class\n",
       "*/\n",
       "\n",
       "/* Pipeline and ColumnTransformer style (default) */\n",
       "\n",
       "#sk-container-id-1 div.sk-toggleable {\n",
       "  /* Default theme specific background. It is overwritten whether we have a\n",
       "  specific estimator or a Pipeline/ColumnTransformer */\n",
       "  background-color: var(--sklearn-color-background);\n",
       "}\n",
       "\n",
       "/* Toggleable label */\n",
       "#sk-container-id-1 label.sk-toggleable__label {\n",
       "  cursor: pointer;\n",
       "  display: block;\n",
       "  width: 100%;\n",
       "  margin-bottom: 0;\n",
       "  padding: 0.5em;\n",
       "  box-sizing: border-box;\n",
       "  text-align: center;\n",
       "}\n",
       "\n",
       "#sk-container-id-1 label.sk-toggleable__label-arrow:before {\n",
       "  /* Arrow on the left of the label */\n",
       "  content: \"▸\";\n",
       "  float: left;\n",
       "  margin-right: 0.25em;\n",
       "  color: var(--sklearn-color-icon);\n",
       "}\n",
       "\n",
       "#sk-container-id-1 label.sk-toggleable__label-arrow:hover:before {\n",
       "  color: var(--sklearn-color-text);\n",
       "}\n",
       "\n",
       "/* Toggleable content - dropdown */\n",
       "\n",
       "#sk-container-id-1 div.sk-toggleable__content {\n",
       "  max-height: 0;\n",
       "  max-width: 0;\n",
       "  overflow: hidden;\n",
       "  text-align: left;\n",
       "  /* unfitted */\n",
       "  background-color: var(--sklearn-color-unfitted-level-0);\n",
       "}\n",
       "\n",
       "#sk-container-id-1 div.sk-toggleable__content.fitted {\n",
       "  /* fitted */\n",
       "  background-color: var(--sklearn-color-fitted-level-0);\n",
       "}\n",
       "\n",
       "#sk-container-id-1 div.sk-toggleable__content pre {\n",
       "  margin: 0.2em;\n",
       "  border-radius: 0.25em;\n",
       "  color: var(--sklearn-color-text);\n",
       "  /* unfitted */\n",
       "  background-color: var(--sklearn-color-unfitted-level-0);\n",
       "}\n",
       "\n",
       "#sk-container-id-1 div.sk-toggleable__content.fitted pre {\n",
       "  /* unfitted */\n",
       "  background-color: var(--sklearn-color-fitted-level-0);\n",
       "}\n",
       "\n",
       "#sk-container-id-1 input.sk-toggleable__control:checked~div.sk-toggleable__content {\n",
       "  /* Expand drop-down */\n",
       "  max-height: 200px;\n",
       "  max-width: 100%;\n",
       "  overflow: auto;\n",
       "}\n",
       "\n",
       "#sk-container-id-1 input.sk-toggleable__control:checked~label.sk-toggleable__label-arrow:before {\n",
       "  content: \"▾\";\n",
       "}\n",
       "\n",
       "/* Pipeline/ColumnTransformer-specific style */\n",
       "\n",
       "#sk-container-id-1 div.sk-label input.sk-toggleable__control:checked~label.sk-toggleable__label {\n",
       "  color: var(--sklearn-color-text);\n",
       "  background-color: var(--sklearn-color-unfitted-level-2);\n",
       "}\n",
       "\n",
       "#sk-container-id-1 div.sk-label.fitted input.sk-toggleable__control:checked~label.sk-toggleable__label {\n",
       "  background-color: var(--sklearn-color-fitted-level-2);\n",
       "}\n",
       "\n",
       "/* Estimator-specific style */\n",
       "\n",
       "/* Colorize estimator box */\n",
       "#sk-container-id-1 div.sk-estimator input.sk-toggleable__control:checked~label.sk-toggleable__label {\n",
       "  /* unfitted */\n",
       "  background-color: var(--sklearn-color-unfitted-level-2);\n",
       "}\n",
       "\n",
       "#sk-container-id-1 div.sk-estimator.fitted input.sk-toggleable__control:checked~label.sk-toggleable__label {\n",
       "  /* fitted */\n",
       "  background-color: var(--sklearn-color-fitted-level-2);\n",
       "}\n",
       "\n",
       "#sk-container-id-1 div.sk-label label.sk-toggleable__label,\n",
       "#sk-container-id-1 div.sk-label label {\n",
       "  /* The background is the default theme color */\n",
       "  color: var(--sklearn-color-text-on-default-background);\n",
       "}\n",
       "\n",
       "/* On hover, darken the color of the background */\n",
       "#sk-container-id-1 div.sk-label:hover label.sk-toggleable__label {\n",
       "  color: var(--sklearn-color-text);\n",
       "  background-color: var(--sklearn-color-unfitted-level-2);\n",
       "}\n",
       "\n",
       "/* Label box, darken color on hover, fitted */\n",
       "#sk-container-id-1 div.sk-label.fitted:hover label.sk-toggleable__label.fitted {\n",
       "  color: var(--sklearn-color-text);\n",
       "  background-color: var(--sklearn-color-fitted-level-2);\n",
       "}\n",
       "\n",
       "/* Estimator label */\n",
       "\n",
       "#sk-container-id-1 div.sk-label label {\n",
       "  font-family: monospace;\n",
       "  font-weight: bold;\n",
       "  display: inline-block;\n",
       "  line-height: 1.2em;\n",
       "}\n",
       "\n",
       "#sk-container-id-1 div.sk-label-container {\n",
       "  text-align: center;\n",
       "}\n",
       "\n",
       "/* Estimator-specific */\n",
       "#sk-container-id-1 div.sk-estimator {\n",
       "  font-family: monospace;\n",
       "  border: 1px dotted var(--sklearn-color-border-box);\n",
       "  border-radius: 0.25em;\n",
       "  box-sizing: border-box;\n",
       "  margin-bottom: 0.5em;\n",
       "  /* unfitted */\n",
       "  background-color: var(--sklearn-color-unfitted-level-0);\n",
       "}\n",
       "\n",
       "#sk-container-id-1 div.sk-estimator.fitted {\n",
       "  /* fitted */\n",
       "  background-color: var(--sklearn-color-fitted-level-0);\n",
       "}\n",
       "\n",
       "/* on hover */\n",
       "#sk-container-id-1 div.sk-estimator:hover {\n",
       "  /* unfitted */\n",
       "  background-color: var(--sklearn-color-unfitted-level-2);\n",
       "}\n",
       "\n",
       "#sk-container-id-1 div.sk-estimator.fitted:hover {\n",
       "  /* fitted */\n",
       "  background-color: var(--sklearn-color-fitted-level-2);\n",
       "}\n",
       "\n",
       "/* Specification for estimator info (e.g. \"i\" and \"?\") */\n",
       "\n",
       "/* Common style for \"i\" and \"?\" */\n",
       "\n",
       ".sk-estimator-doc-link,\n",
       "a:link.sk-estimator-doc-link,\n",
       "a:visited.sk-estimator-doc-link {\n",
       "  float: right;\n",
       "  font-size: smaller;\n",
       "  line-height: 1em;\n",
       "  font-family: monospace;\n",
       "  background-color: var(--sklearn-color-background);\n",
       "  border-radius: 1em;\n",
       "  height: 1em;\n",
       "  width: 1em;\n",
       "  text-decoration: none !important;\n",
       "  margin-left: 1ex;\n",
       "  /* unfitted */\n",
       "  border: var(--sklearn-color-unfitted-level-1) 1pt solid;\n",
       "  color: var(--sklearn-color-unfitted-level-1);\n",
       "}\n",
       "\n",
       ".sk-estimator-doc-link.fitted,\n",
       "a:link.sk-estimator-doc-link.fitted,\n",
       "a:visited.sk-estimator-doc-link.fitted {\n",
       "  /* fitted */\n",
       "  border: var(--sklearn-color-fitted-level-1) 1pt solid;\n",
       "  color: var(--sklearn-color-fitted-level-1);\n",
       "}\n",
       "\n",
       "/* On hover */\n",
       "div.sk-estimator:hover .sk-estimator-doc-link:hover,\n",
       ".sk-estimator-doc-link:hover,\n",
       "div.sk-label-container:hover .sk-estimator-doc-link:hover,\n",
       ".sk-estimator-doc-link:hover {\n",
       "  /* unfitted */\n",
       "  background-color: var(--sklearn-color-unfitted-level-3);\n",
       "  color: var(--sklearn-color-background);\n",
       "  text-decoration: none;\n",
       "}\n",
       "\n",
       "div.sk-estimator.fitted:hover .sk-estimator-doc-link.fitted:hover,\n",
       ".sk-estimator-doc-link.fitted:hover,\n",
       "div.sk-label-container:hover .sk-estimator-doc-link.fitted:hover,\n",
       ".sk-estimator-doc-link.fitted:hover {\n",
       "  /* fitted */\n",
       "  background-color: var(--sklearn-color-fitted-level-3);\n",
       "  color: var(--sklearn-color-background);\n",
       "  text-decoration: none;\n",
       "}\n",
       "\n",
       "/* Span, style for the box shown on hovering the info icon */\n",
       ".sk-estimator-doc-link span {\n",
       "  display: none;\n",
       "  z-index: 9999;\n",
       "  position: relative;\n",
       "  font-weight: normal;\n",
       "  right: .2ex;\n",
       "  padding: .5ex;\n",
       "  margin: .5ex;\n",
       "  width: min-content;\n",
       "  min-width: 20ex;\n",
       "  max-width: 50ex;\n",
       "  color: var(--sklearn-color-text);\n",
       "  box-shadow: 2pt 2pt 4pt #999;\n",
       "  /* unfitted */\n",
       "  background: var(--sklearn-color-unfitted-level-0);\n",
       "  border: .5pt solid var(--sklearn-color-unfitted-level-3);\n",
       "}\n",
       "\n",
       ".sk-estimator-doc-link.fitted span {\n",
       "  /* fitted */\n",
       "  background: var(--sklearn-color-fitted-level-0);\n",
       "  border: var(--sklearn-color-fitted-level-3);\n",
       "}\n",
       "\n",
       ".sk-estimator-doc-link:hover span {\n",
       "  display: block;\n",
       "}\n",
       "\n",
       "/* \"?\"-specific style due to the `<a>` HTML tag */\n",
       "\n",
       "#sk-container-id-1 a.estimator_doc_link {\n",
       "  float: right;\n",
       "  font-size: 1rem;\n",
       "  line-height: 1em;\n",
       "  font-family: monospace;\n",
       "  background-color: var(--sklearn-color-background);\n",
       "  border-radius: 1rem;\n",
       "  height: 1rem;\n",
       "  width: 1rem;\n",
       "  text-decoration: none;\n",
       "  /* unfitted */\n",
       "  color: var(--sklearn-color-unfitted-level-1);\n",
       "  border: var(--sklearn-color-unfitted-level-1) 1pt solid;\n",
       "}\n",
       "\n",
       "#sk-container-id-1 a.estimator_doc_link.fitted {\n",
       "  /* fitted */\n",
       "  border: var(--sklearn-color-fitted-level-1) 1pt solid;\n",
       "  color: var(--sklearn-color-fitted-level-1);\n",
       "}\n",
       "\n",
       "/* On hover */\n",
       "#sk-container-id-1 a.estimator_doc_link:hover {\n",
       "  /* unfitted */\n",
       "  background-color: var(--sklearn-color-unfitted-level-3);\n",
       "  color: var(--sklearn-color-background);\n",
       "  text-decoration: none;\n",
       "}\n",
       "\n",
       "#sk-container-id-1 a.estimator_doc_link.fitted:hover {\n",
       "  /* fitted */\n",
       "  background-color: var(--sklearn-color-fitted-level-3);\n",
       "}\n",
       "</style><div id=\"sk-container-id-1\" class=\"sk-top-container\"><div class=\"sk-text-repr-fallback\"><pre>LogisticRegression(max_iter=1000, random_state=42)</pre><b>In a Jupyter environment, please rerun this cell to show the HTML representation or trust the notebook. <br />On GitHub, the HTML representation is unable to render, please try loading this page with nbviewer.org.</b></div><div class=\"sk-container\" hidden><div class=\"sk-item\"><div class=\"sk-estimator fitted sk-toggleable\"><input class=\"sk-toggleable__control sk-hidden--visually\" id=\"sk-estimator-id-1\" type=\"checkbox\" checked><label for=\"sk-estimator-id-1\" class=\"sk-toggleable__label fitted sk-toggleable__label-arrow fitted\">&nbsp;&nbsp;LogisticRegression<a class=\"sk-estimator-doc-link fitted\" rel=\"noreferrer\" target=\"_blank\" href=\"https://scikit-learn.org/1.5/modules/generated/sklearn.linear_model.LogisticRegression.html\">?<span>Documentation for LogisticRegression</span></a><span class=\"sk-estimator-doc-link fitted\">i<span>Fitted</span></span></label><div class=\"sk-toggleable__content fitted\"><pre>LogisticRegression(max_iter=1000, random_state=42)</pre></div> </div></div></div></div>"
      ],
      "text/plain": [
       "LogisticRegression(max_iter=1000, random_state=42)"
      ]
     },
     "execution_count": 106,
     "metadata": {},
     "output_type": "execute_result"
    }
   ],
   "source": [
    "from sklearn.linear_model import LogisticRegression\n",
    "from sklearn.metrics import accuracy_score, classification_report\n",
    "\n",
    "model= LogisticRegression(max_iter=1000, random_state=42)\n",
    "model.fit(X_train, y_train)"
   ]
  },
  {
   "cell_type": "code",
   "execution_count": 108,
   "metadata": {
    "colab": {
     "base_uri": "https://localhost:8080/"
    },
    "executionInfo": {
     "elapsed": 382,
     "status": "ok",
     "timestamp": 1736961312826,
     "user": {
      "displayName": "Nguyễn Tuấn Phát",
      "userId": "04366712349912838190"
     },
     "user_tz": -420
    },
    "id": "uWZgOYXHvkJF",
    "outputId": "1ee284e3-627d-4f0d-dc31-2e7a1d169757"
   },
   "outputs": [
    {
     "name": "stdout",
     "output_type": "stream",
     "text": [
      "\n",
      "# Đánh giá mô hình Logistic regresion (mặc định)\n",
      "Accuracy: 0.8990011098779135\n",
      "\n",
      "Classification Report:\n",
      "              precision    recall  f1-score   support\n",
      "\n",
      "           0       0.91      0.98      0.95      7225\n",
      "           1       0.59      0.24      0.34       884\n",
      "\n",
      "    accuracy                           0.90      8109\n",
      "   macro avg       0.75      0.61      0.64      8109\n",
      "weighted avg       0.88      0.90      0.88      8109\n",
      "\n"
     ]
    }
   ],
   "source": [
    "# Đánh giá mô hình Logistic Regression mặc định\n",
    "print(\"\\n# Đánh giá mô hình Logistic regresion (mặc định)\")\n",
    "\n",
    "y_pred = model.predict(X_test)\n",
    "print(\"Accuracy:\", accuracy_score(y_test, y_pred))\n",
    "print(\"\\nClassification Report:\")\n",
    "print(classification_report(y_test, y_pred))"
   ]
  },
  {
   "cell_type": "markdown",
   "metadata": {
    "id": "aYtsHlgH1wTI"
   },
   "source": [
    "**Nhận xét**\n",
    "\n",
    "**Support** :\n",
    "- Lớp 0: 7225 mẫu.\n",
    "- Lớp 1: 884 mẫu.\n",
    "- Nhận xét: Dữ liệu có sự **mất cân bằng**.\n",
    "\n",
    "**Accuracy** (Độ chính xác tổng thể): 0.90\n",
    "- Mô hình dự đoán đúng 90% các trường hợp, cả cho lớp 0 (không đăng ký) và lớp 1 (đăng ký).\n",
    "- Nhận xét: Đây là một kết quả khá tốt. Tuy nhiên, khi xét thấy dữ liệu có hiện tượng mất cân bằng, thì giá trị **Accuracy chưa đủ tin cậy**.\n",
    "\n",
    "**Precision** :\n",
    "- Lớp 0 (Không đăng ký): 0.91 (~91%)\n",
    "  - Trong số các trường hợp mô hình dự đoán là Không đăng ký, 91% thực sự là đúng.\n",
    "- Lớp 1 (Đăng ký): 0.59 (~59%)\n",
    "  - Trong số các trường hợp mô hình dự đoán là Đăng ký, 59% thực sự là đúng.\n",
    "- Nhận xét:  Mô hình hơi **ưu tiên dự đoán chính xác lớp \"Không đăng ký\"** hơn.\n",
    "\n",
    "**Recall** :\n",
    "- Lớp 0 (Không đăng ký): 0.98 (~98%)\n",
    "  - Trong tất cả các trường hợp thực sự \"Không đăng ký\", mô hình dự đoán đúng 98%.\n",
    "- Lớp 1 (Đăng ký): 0.23 (~23%)\n",
    "  - Trong tất cả các trường hợp thực sự \"Đăng ký\", mô hình chỉ phát hiện được 23%, bỏ lỡ 77% số trường hợp Đăng ký.\n",
    "- Nhận xét: Mô hình **có xu hướng bỏ sót nhiều khách hàng thực sự Đăng ký**.\n",
    "\n",
    "**F1-score** (Trung bình hài hòa của Precision và Recall):\n",
    "- Lớp 0: 0.94 (~94%)\n",
    "  - Lớp này có hiệu suất tốt hơn, do Recall và Precision đều cao.\n",
    "- Lớp 1: 0.33 (~33%)\n",
    "  - Hiệu suất lớp này kém hơn do Recall và Precision đều thấp.\n",
    "\n",
    "- Nhận xét:\n",
    "  - F1-score (lớp 0) > F1-score (lớp 1): **Mô hình (tổng quát) dự đoán cho Lớp 0 (Không đăng ký) có kết quả tốt hơn lớp 1 (Đăng ký).**\n",
    "  - Weighted avg (0.88) thấp hơn accuracy (0.90) nhưng cao hơn macro avg (0.75). Điều này cho thấy mô hình hoạt động tốt hơn trên lớp đa số (lớp 0).\n",
    "  - Dữ liệu bị mất cân bằng, tiến hành Sử dụng thuật toán SMOTE để cân bằng dữ liệu huấn luyện\n",
    "\n"
   ]
  },
  {
   "cell_type": "code",
   "execution_count": 111,
   "metadata": {
    "colab": {
     "base_uri": "https://localhost:8080/"
    },
    "executionInfo": {
     "elapsed": 368,
     "status": "ok",
     "timestamp": 1736961325643,
     "user": {
      "displayName": "Nguyễn Tuấn Phát",
      "userId": "04366712349912838190"
     },
     "user_tz": -420
    },
    "id": "hWLnZzAUv1DW",
    "outputId": "6bc88651-65e7-4abf-c5a5-aa29e18e8ebd"
   },
   "outputs": [
    {
     "name": "stdout",
     "output_type": "stream",
     "text": [
      "\n",
      "Số lượng mẫu mỗi lớp, trong tập huấn luyện (trước cân bằng):\n",
      "y\n",
      "0    28964\n",
      "1     3470\n",
      "Name: count, dtype: int64\n"
     ]
    }
   ],
   "source": [
    "# Kiểm tra số lượng mẫu trong tập huấn luyện trước cân bằng\n",
    "print(\"\\nSố lượng mẫu mỗi lớp, trong tập huấn luyện (trước cân bằng):\")\n",
    "print(y_train.value_counts())"
   ]
  },
  {
   "cell_type": "code",
   "execution_count": 113,
   "metadata": {
    "colab": {
     "base_uri": "https://localhost:8080/"
    },
    "executionInfo": {
     "elapsed": 781,
     "status": "ok",
     "timestamp": 1736961331440,
     "user": {
      "displayName": "Nguyễn Tuấn Phát",
      "userId": "04366712349912838190"
     },
     "user_tz": -420
    },
    "id": "OAuaNzX9_XCI",
    "outputId": "922ea408-097c-4037-9672-1456c7d70278"
   },
   "outputs": [
    {
     "name": "stdout",
     "output_type": "stream",
     "text": [
      "\n",
      "Số lượng mẫu sau SMOTE:\n",
      "y\n",
      "0    28964\n",
      "1    28964\n",
      "Name: count, dtype: int64\n"
     ]
    }
   ],
   "source": [
    "from imblearn.over_sampling import SMOTE\n",
    "# Áp dụng SMOTE để cân bằng dữ liệu\n",
    "smote = SMOTE(random_state=42)\n",
    "X_train_resampled, y_train_resampled = smote.fit_resample(X_train, y_train)\n",
    "\n",
    "# Kiểm tra số lượng mẫu sau SMOTE\n",
    "print(\"\\nSố lượng mẫu sau SMOTE:\")\n",
    "print(y_train_resampled.value_counts())"
   ]
  },
  {
   "cell_type": "code",
   "execution_count": 115,
   "metadata": {
    "colab": {
     "base_uri": "https://localhost:8080/",
     "height": 281
    },
    "executionInfo": {
     "elapsed": 9861,
     "status": "ok",
     "timestamp": 1736961346019,
     "user": {
      "displayName": "Nguyễn Tuấn Phát",
      "userId": "04366712349912838190"
     },
     "user_tz": -420
    },
    "id": "1Ul7nncLlj90",
    "outputId": "5ebb67a8-ec7b-4843-9b9c-a0b1bc30f253"
   },
   "outputs": [
    {
     "name": "stdout",
     "output_type": "stream",
     "text": [
      "\n",
      "# Huấn luyện Logistic Regression với dữ liệu đã cân bằng\n"
     ]
    },
    {
     "name": "stderr",
     "output_type": "stream",
     "text": [
      "E:\\py\\Lib\\site-packages\\sklearn\\linear_model\\_logistic.py:469: ConvergenceWarning: lbfgs failed to converge (status=1):\n",
      "STOP: TOTAL NO. of ITERATIONS REACHED LIMIT.\n",
      "\n",
      "Increase the number of iterations (max_iter) or scale the data as shown in:\n",
      "    https://scikit-learn.org/stable/modules/preprocessing.html\n",
      "Please also refer to the documentation for alternative solver options:\n",
      "    https://scikit-learn.org/stable/modules/linear_model.html#logistic-regression\n",
      "  n_iter_i = _check_optimize_result(\n"
     ]
    },
    {
     "data": {
      "text/html": [
       "<style>#sk-container-id-2 {\n",
       "  /* Definition of color scheme common for light and dark mode */\n",
       "  --sklearn-color-text: black;\n",
       "  --sklearn-color-line: gray;\n",
       "  /* Definition of color scheme for unfitted estimators */\n",
       "  --sklearn-color-unfitted-level-0: #fff5e6;\n",
       "  --sklearn-color-unfitted-level-1: #f6e4d2;\n",
       "  --sklearn-color-unfitted-level-2: #ffe0b3;\n",
       "  --sklearn-color-unfitted-level-3: chocolate;\n",
       "  /* Definition of color scheme for fitted estimators */\n",
       "  --sklearn-color-fitted-level-0: #f0f8ff;\n",
       "  --sklearn-color-fitted-level-1: #d4ebff;\n",
       "  --sklearn-color-fitted-level-2: #b3dbfd;\n",
       "  --sklearn-color-fitted-level-3: cornflowerblue;\n",
       "\n",
       "  /* Specific color for light theme */\n",
       "  --sklearn-color-text-on-default-background: var(--sg-text-color, var(--theme-code-foreground, var(--jp-content-font-color1, black)));\n",
       "  --sklearn-color-background: var(--sg-background-color, var(--theme-background, var(--jp-layout-color0, white)));\n",
       "  --sklearn-color-border-box: var(--sg-text-color, var(--theme-code-foreground, var(--jp-content-font-color1, black)));\n",
       "  --sklearn-color-icon: #696969;\n",
       "\n",
       "  @media (prefers-color-scheme: dark) {\n",
       "    /* Redefinition of color scheme for dark theme */\n",
       "    --sklearn-color-text-on-default-background: var(--sg-text-color, var(--theme-code-foreground, var(--jp-content-font-color1, white)));\n",
       "    --sklearn-color-background: var(--sg-background-color, var(--theme-background, var(--jp-layout-color0, #111)));\n",
       "    --sklearn-color-border-box: var(--sg-text-color, var(--theme-code-foreground, var(--jp-content-font-color1, white)));\n",
       "    --sklearn-color-icon: #878787;\n",
       "  }\n",
       "}\n",
       "\n",
       "#sk-container-id-2 {\n",
       "  color: var(--sklearn-color-text);\n",
       "}\n",
       "\n",
       "#sk-container-id-2 pre {\n",
       "  padding: 0;\n",
       "}\n",
       "\n",
       "#sk-container-id-2 input.sk-hidden--visually {\n",
       "  border: 0;\n",
       "  clip: rect(1px 1px 1px 1px);\n",
       "  clip: rect(1px, 1px, 1px, 1px);\n",
       "  height: 1px;\n",
       "  margin: -1px;\n",
       "  overflow: hidden;\n",
       "  padding: 0;\n",
       "  position: absolute;\n",
       "  width: 1px;\n",
       "}\n",
       "\n",
       "#sk-container-id-2 div.sk-dashed-wrapped {\n",
       "  border: 1px dashed var(--sklearn-color-line);\n",
       "  margin: 0 0.4em 0.5em 0.4em;\n",
       "  box-sizing: border-box;\n",
       "  padding-bottom: 0.4em;\n",
       "  background-color: var(--sklearn-color-background);\n",
       "}\n",
       "\n",
       "#sk-container-id-2 div.sk-container {\n",
       "  /* jupyter's `normalize.less` sets `[hidden] { display: none; }`\n",
       "     but bootstrap.min.css set `[hidden] { display: none !important; }`\n",
       "     so we also need the `!important` here to be able to override the\n",
       "     default hidden behavior on the sphinx rendered scikit-learn.org.\n",
       "     See: https://github.com/scikit-learn/scikit-learn/issues/21755 */\n",
       "  display: inline-block !important;\n",
       "  position: relative;\n",
       "}\n",
       "\n",
       "#sk-container-id-2 div.sk-text-repr-fallback {\n",
       "  display: none;\n",
       "}\n",
       "\n",
       "div.sk-parallel-item,\n",
       "div.sk-serial,\n",
       "div.sk-item {\n",
       "  /* draw centered vertical line to link estimators */\n",
       "  background-image: linear-gradient(var(--sklearn-color-text-on-default-background), var(--sklearn-color-text-on-default-background));\n",
       "  background-size: 2px 100%;\n",
       "  background-repeat: no-repeat;\n",
       "  background-position: center center;\n",
       "}\n",
       "\n",
       "/* Parallel-specific style estimator block */\n",
       "\n",
       "#sk-container-id-2 div.sk-parallel-item::after {\n",
       "  content: \"\";\n",
       "  width: 100%;\n",
       "  border-bottom: 2px solid var(--sklearn-color-text-on-default-background);\n",
       "  flex-grow: 1;\n",
       "}\n",
       "\n",
       "#sk-container-id-2 div.sk-parallel {\n",
       "  display: flex;\n",
       "  align-items: stretch;\n",
       "  justify-content: center;\n",
       "  background-color: var(--sklearn-color-background);\n",
       "  position: relative;\n",
       "}\n",
       "\n",
       "#sk-container-id-2 div.sk-parallel-item {\n",
       "  display: flex;\n",
       "  flex-direction: column;\n",
       "}\n",
       "\n",
       "#sk-container-id-2 div.sk-parallel-item:first-child::after {\n",
       "  align-self: flex-end;\n",
       "  width: 50%;\n",
       "}\n",
       "\n",
       "#sk-container-id-2 div.sk-parallel-item:last-child::after {\n",
       "  align-self: flex-start;\n",
       "  width: 50%;\n",
       "}\n",
       "\n",
       "#sk-container-id-2 div.sk-parallel-item:only-child::after {\n",
       "  width: 0;\n",
       "}\n",
       "\n",
       "/* Serial-specific style estimator block */\n",
       "\n",
       "#sk-container-id-2 div.sk-serial {\n",
       "  display: flex;\n",
       "  flex-direction: column;\n",
       "  align-items: center;\n",
       "  background-color: var(--sklearn-color-background);\n",
       "  padding-right: 1em;\n",
       "  padding-left: 1em;\n",
       "}\n",
       "\n",
       "\n",
       "/* Toggleable style: style used for estimator/Pipeline/ColumnTransformer box that is\n",
       "clickable and can be expanded/collapsed.\n",
       "- Pipeline and ColumnTransformer use this feature and define the default style\n",
       "- Estimators will overwrite some part of the style using the `sk-estimator` class\n",
       "*/\n",
       "\n",
       "/* Pipeline and ColumnTransformer style (default) */\n",
       "\n",
       "#sk-container-id-2 div.sk-toggleable {\n",
       "  /* Default theme specific background. It is overwritten whether we have a\n",
       "  specific estimator or a Pipeline/ColumnTransformer */\n",
       "  background-color: var(--sklearn-color-background);\n",
       "}\n",
       "\n",
       "/* Toggleable label */\n",
       "#sk-container-id-2 label.sk-toggleable__label {\n",
       "  cursor: pointer;\n",
       "  display: block;\n",
       "  width: 100%;\n",
       "  margin-bottom: 0;\n",
       "  padding: 0.5em;\n",
       "  box-sizing: border-box;\n",
       "  text-align: center;\n",
       "}\n",
       "\n",
       "#sk-container-id-2 label.sk-toggleable__label-arrow:before {\n",
       "  /* Arrow on the left of the label */\n",
       "  content: \"▸\";\n",
       "  float: left;\n",
       "  margin-right: 0.25em;\n",
       "  color: var(--sklearn-color-icon);\n",
       "}\n",
       "\n",
       "#sk-container-id-2 label.sk-toggleable__label-arrow:hover:before {\n",
       "  color: var(--sklearn-color-text);\n",
       "}\n",
       "\n",
       "/* Toggleable content - dropdown */\n",
       "\n",
       "#sk-container-id-2 div.sk-toggleable__content {\n",
       "  max-height: 0;\n",
       "  max-width: 0;\n",
       "  overflow: hidden;\n",
       "  text-align: left;\n",
       "  /* unfitted */\n",
       "  background-color: var(--sklearn-color-unfitted-level-0);\n",
       "}\n",
       "\n",
       "#sk-container-id-2 div.sk-toggleable__content.fitted {\n",
       "  /* fitted */\n",
       "  background-color: var(--sklearn-color-fitted-level-0);\n",
       "}\n",
       "\n",
       "#sk-container-id-2 div.sk-toggleable__content pre {\n",
       "  margin: 0.2em;\n",
       "  border-radius: 0.25em;\n",
       "  color: var(--sklearn-color-text);\n",
       "  /* unfitted */\n",
       "  background-color: var(--sklearn-color-unfitted-level-0);\n",
       "}\n",
       "\n",
       "#sk-container-id-2 div.sk-toggleable__content.fitted pre {\n",
       "  /* unfitted */\n",
       "  background-color: var(--sklearn-color-fitted-level-0);\n",
       "}\n",
       "\n",
       "#sk-container-id-2 input.sk-toggleable__control:checked~div.sk-toggleable__content {\n",
       "  /* Expand drop-down */\n",
       "  max-height: 200px;\n",
       "  max-width: 100%;\n",
       "  overflow: auto;\n",
       "}\n",
       "\n",
       "#sk-container-id-2 input.sk-toggleable__control:checked~label.sk-toggleable__label-arrow:before {\n",
       "  content: \"▾\";\n",
       "}\n",
       "\n",
       "/* Pipeline/ColumnTransformer-specific style */\n",
       "\n",
       "#sk-container-id-2 div.sk-label input.sk-toggleable__control:checked~label.sk-toggleable__label {\n",
       "  color: var(--sklearn-color-text);\n",
       "  background-color: var(--sklearn-color-unfitted-level-2);\n",
       "}\n",
       "\n",
       "#sk-container-id-2 div.sk-label.fitted input.sk-toggleable__control:checked~label.sk-toggleable__label {\n",
       "  background-color: var(--sklearn-color-fitted-level-2);\n",
       "}\n",
       "\n",
       "/* Estimator-specific style */\n",
       "\n",
       "/* Colorize estimator box */\n",
       "#sk-container-id-2 div.sk-estimator input.sk-toggleable__control:checked~label.sk-toggleable__label {\n",
       "  /* unfitted */\n",
       "  background-color: var(--sklearn-color-unfitted-level-2);\n",
       "}\n",
       "\n",
       "#sk-container-id-2 div.sk-estimator.fitted input.sk-toggleable__control:checked~label.sk-toggleable__label {\n",
       "  /* fitted */\n",
       "  background-color: var(--sklearn-color-fitted-level-2);\n",
       "}\n",
       "\n",
       "#sk-container-id-2 div.sk-label label.sk-toggleable__label,\n",
       "#sk-container-id-2 div.sk-label label {\n",
       "  /* The background is the default theme color */\n",
       "  color: var(--sklearn-color-text-on-default-background);\n",
       "}\n",
       "\n",
       "/* On hover, darken the color of the background */\n",
       "#sk-container-id-2 div.sk-label:hover label.sk-toggleable__label {\n",
       "  color: var(--sklearn-color-text);\n",
       "  background-color: var(--sklearn-color-unfitted-level-2);\n",
       "}\n",
       "\n",
       "/* Label box, darken color on hover, fitted */\n",
       "#sk-container-id-2 div.sk-label.fitted:hover label.sk-toggleable__label.fitted {\n",
       "  color: var(--sklearn-color-text);\n",
       "  background-color: var(--sklearn-color-fitted-level-2);\n",
       "}\n",
       "\n",
       "/* Estimator label */\n",
       "\n",
       "#sk-container-id-2 div.sk-label label {\n",
       "  font-family: monospace;\n",
       "  font-weight: bold;\n",
       "  display: inline-block;\n",
       "  line-height: 1.2em;\n",
       "}\n",
       "\n",
       "#sk-container-id-2 div.sk-label-container {\n",
       "  text-align: center;\n",
       "}\n",
       "\n",
       "/* Estimator-specific */\n",
       "#sk-container-id-2 div.sk-estimator {\n",
       "  font-family: monospace;\n",
       "  border: 1px dotted var(--sklearn-color-border-box);\n",
       "  border-radius: 0.25em;\n",
       "  box-sizing: border-box;\n",
       "  margin-bottom: 0.5em;\n",
       "  /* unfitted */\n",
       "  background-color: var(--sklearn-color-unfitted-level-0);\n",
       "}\n",
       "\n",
       "#sk-container-id-2 div.sk-estimator.fitted {\n",
       "  /* fitted */\n",
       "  background-color: var(--sklearn-color-fitted-level-0);\n",
       "}\n",
       "\n",
       "/* on hover */\n",
       "#sk-container-id-2 div.sk-estimator:hover {\n",
       "  /* unfitted */\n",
       "  background-color: var(--sklearn-color-unfitted-level-2);\n",
       "}\n",
       "\n",
       "#sk-container-id-2 div.sk-estimator.fitted:hover {\n",
       "  /* fitted */\n",
       "  background-color: var(--sklearn-color-fitted-level-2);\n",
       "}\n",
       "\n",
       "/* Specification for estimator info (e.g. \"i\" and \"?\") */\n",
       "\n",
       "/* Common style for \"i\" and \"?\" */\n",
       "\n",
       ".sk-estimator-doc-link,\n",
       "a:link.sk-estimator-doc-link,\n",
       "a:visited.sk-estimator-doc-link {\n",
       "  float: right;\n",
       "  font-size: smaller;\n",
       "  line-height: 1em;\n",
       "  font-family: monospace;\n",
       "  background-color: var(--sklearn-color-background);\n",
       "  border-radius: 1em;\n",
       "  height: 1em;\n",
       "  width: 1em;\n",
       "  text-decoration: none !important;\n",
       "  margin-left: 1ex;\n",
       "  /* unfitted */\n",
       "  border: var(--sklearn-color-unfitted-level-1) 1pt solid;\n",
       "  color: var(--sklearn-color-unfitted-level-1);\n",
       "}\n",
       "\n",
       ".sk-estimator-doc-link.fitted,\n",
       "a:link.sk-estimator-doc-link.fitted,\n",
       "a:visited.sk-estimator-doc-link.fitted {\n",
       "  /* fitted */\n",
       "  border: var(--sklearn-color-fitted-level-1) 1pt solid;\n",
       "  color: var(--sklearn-color-fitted-level-1);\n",
       "}\n",
       "\n",
       "/* On hover */\n",
       "div.sk-estimator:hover .sk-estimator-doc-link:hover,\n",
       ".sk-estimator-doc-link:hover,\n",
       "div.sk-label-container:hover .sk-estimator-doc-link:hover,\n",
       ".sk-estimator-doc-link:hover {\n",
       "  /* unfitted */\n",
       "  background-color: var(--sklearn-color-unfitted-level-3);\n",
       "  color: var(--sklearn-color-background);\n",
       "  text-decoration: none;\n",
       "}\n",
       "\n",
       "div.sk-estimator.fitted:hover .sk-estimator-doc-link.fitted:hover,\n",
       ".sk-estimator-doc-link.fitted:hover,\n",
       "div.sk-label-container:hover .sk-estimator-doc-link.fitted:hover,\n",
       ".sk-estimator-doc-link.fitted:hover {\n",
       "  /* fitted */\n",
       "  background-color: var(--sklearn-color-fitted-level-3);\n",
       "  color: var(--sklearn-color-background);\n",
       "  text-decoration: none;\n",
       "}\n",
       "\n",
       "/* Span, style for the box shown on hovering the info icon */\n",
       ".sk-estimator-doc-link span {\n",
       "  display: none;\n",
       "  z-index: 9999;\n",
       "  position: relative;\n",
       "  font-weight: normal;\n",
       "  right: .2ex;\n",
       "  padding: .5ex;\n",
       "  margin: .5ex;\n",
       "  width: min-content;\n",
       "  min-width: 20ex;\n",
       "  max-width: 50ex;\n",
       "  color: var(--sklearn-color-text);\n",
       "  box-shadow: 2pt 2pt 4pt #999;\n",
       "  /* unfitted */\n",
       "  background: var(--sklearn-color-unfitted-level-0);\n",
       "  border: .5pt solid var(--sklearn-color-unfitted-level-3);\n",
       "}\n",
       "\n",
       ".sk-estimator-doc-link.fitted span {\n",
       "  /* fitted */\n",
       "  background: var(--sklearn-color-fitted-level-0);\n",
       "  border: var(--sklearn-color-fitted-level-3);\n",
       "}\n",
       "\n",
       ".sk-estimator-doc-link:hover span {\n",
       "  display: block;\n",
       "}\n",
       "\n",
       "/* \"?\"-specific style due to the `<a>` HTML tag */\n",
       "\n",
       "#sk-container-id-2 a.estimator_doc_link {\n",
       "  float: right;\n",
       "  font-size: 1rem;\n",
       "  line-height: 1em;\n",
       "  font-family: monospace;\n",
       "  background-color: var(--sklearn-color-background);\n",
       "  border-radius: 1rem;\n",
       "  height: 1rem;\n",
       "  width: 1rem;\n",
       "  text-decoration: none;\n",
       "  /* unfitted */\n",
       "  color: var(--sklearn-color-unfitted-level-1);\n",
       "  border: var(--sklearn-color-unfitted-level-1) 1pt solid;\n",
       "}\n",
       "\n",
       "#sk-container-id-2 a.estimator_doc_link.fitted {\n",
       "  /* fitted */\n",
       "  border: var(--sklearn-color-fitted-level-1) 1pt solid;\n",
       "  color: var(--sklearn-color-fitted-level-1);\n",
       "}\n",
       "\n",
       "/* On hover */\n",
       "#sk-container-id-2 a.estimator_doc_link:hover {\n",
       "  /* unfitted */\n",
       "  background-color: var(--sklearn-color-unfitted-level-3);\n",
       "  color: var(--sklearn-color-background);\n",
       "  text-decoration: none;\n",
       "}\n",
       "\n",
       "#sk-container-id-2 a.estimator_doc_link.fitted:hover {\n",
       "  /* fitted */\n",
       "  background-color: var(--sklearn-color-fitted-level-3);\n",
       "}\n",
       "</style><div id=\"sk-container-id-2\" class=\"sk-top-container\"><div class=\"sk-text-repr-fallback\"><pre>LogisticRegression(max_iter=1000, random_state=42)</pre><b>In a Jupyter environment, please rerun this cell to show the HTML representation or trust the notebook. <br />On GitHub, the HTML representation is unable to render, please try loading this page with nbviewer.org.</b></div><div class=\"sk-container\" hidden><div class=\"sk-item\"><div class=\"sk-estimator fitted sk-toggleable\"><input class=\"sk-toggleable__control sk-hidden--visually\" id=\"sk-estimator-id-2\" type=\"checkbox\" checked><label for=\"sk-estimator-id-2\" class=\"sk-toggleable__label fitted sk-toggleable__label-arrow fitted\">&nbsp;&nbsp;LogisticRegression<a class=\"sk-estimator-doc-link fitted\" rel=\"noreferrer\" target=\"_blank\" href=\"https://scikit-learn.org/1.5/modules/generated/sklearn.linear_model.LogisticRegression.html\">?<span>Documentation for LogisticRegression</span></a><span class=\"sk-estimator-doc-link fitted\">i<span>Fitted</span></span></label><div class=\"sk-toggleable__content fitted\"><pre>LogisticRegression(max_iter=1000, random_state=42)</pre></div> </div></div></div></div>"
      ],
      "text/plain": [
       "LogisticRegression(max_iter=1000, random_state=42)"
      ]
     },
     "execution_count": 115,
     "metadata": {},
     "output_type": "execute_result"
    }
   ],
   "source": [
    "# Huấn luyện Logistic Regression với dữ liệu đã cân bằng\n",
    "print(\"\\n# Huấn luyện Logistic Regression với dữ liệu đã cân bằng\")\n",
    "\n",
    "# Huấn luyện Logistic Regression\n",
    "model_smote = LogisticRegression(max_iter=1000, random_state=42)\n",
    "model_smote.fit(X_train_resampled, y_train_resampled)"
   ]
  },
  {
   "cell_type": "code",
   "execution_count": 117,
   "metadata": {
    "colab": {
     "base_uri": "https://localhost:8080/"
    },
    "executionInfo": {
     "elapsed": 371,
     "status": "ok",
     "timestamp": 1736961375219,
     "user": {
      "displayName": "Nguyễn Tuấn Phát",
      "userId": "04366712349912838190"
     },
     "user_tz": -420
    },
    "id": "Zo8v2onFwE-U",
    "outputId": "f3b1adcf-54b0-4805-b044-7aeef70c4d05"
   },
   "outputs": [
    {
     "name": "stdout",
     "output_type": "stream",
     "text": [
      "\n",
      "# Đánh giá mô hình với dữ liệu đã cân bằng với SMOTE\n",
      "Accuracy: 0.8240226908373413\n",
      "\n",
      "Classification Report:\n",
      "              precision    recall  f1-score   support\n",
      "\n",
      "           0       0.96      0.84      0.89      7225\n",
      "           1       0.35      0.71      0.47       884\n",
      "\n",
      "    accuracy                           0.82      8109\n",
      "   macro avg       0.65      0.78      0.68      8109\n",
      "weighted avg       0.89      0.82      0.85      8109\n",
      "\n"
     ]
    }
   ],
   "source": [
    "# Đánh giá mô hình với dữ liệu đã cân bằng\n",
    "print(\"\\n# Đánh giá mô hình với dữ liệu đã cân bằng với SMOTE\")\n",
    "y_pred_smote = model_smote.predict(X_test)\n",
    "print(\"Accuracy:\", accuracy_score(y_test, y_pred_smote))\n",
    "print(\"\\nClassification Report:\")\n",
    "print(classification_report(y_test, y_pred_smote))"
   ]
  },
  {
   "cell_type": "markdown",
   "metadata": {
    "id": "zxYDyPXjzsKY"
   },
   "source": [
    "### **(1) Cân bằng dữ liệu bằng SMOTE**\n",
    "- **Mô tả:** Sử dụng SMOTE để tạo thêm dữ liệu nhân tạo cho lớp thiểu số, giúp cân bằng giữa các lớp.\n",
    "- **Hiệu suất:**\n",
    "  - Accuracy: **0.82**\n",
    "  - Precision (lớp 1): **0.34**\n",
    "  - Recall (lớp 1): **0.71**\n",
    "  - F1-score (lớp 1): **0.46**\n",
    "- **Đánh giá:**\n",
    "  - Cải thiện đồng thời Recall và F1-score của lớp 1, tuy nhiên Precision bị giảm đi.\n",
    "  - Độ chính xác kém đi khiến cho mô hình không đạt hiệu suất tốt.\n",
    "  - Mô hình không còn bỏ sót các khách hàng đăng ký nhiều như trước.\n",
    "  - Thử nghiệm với thuật toán Random Forest"
   ]
  },
  {
   "cell_type": "markdown",
   "metadata": {
    "id": "5swzddravMta"
   },
   "source": [
    "## Sử dụng thuật toán Random Forest Classifier"
   ]
  },
  {
   "cell_type": "code",
   "execution_count": 121,
   "metadata": {
    "executionInfo": {
     "elapsed": 7,
     "status": "ok",
     "timestamp": 1736961355700,
     "user": {
      "displayName": "Nguyễn Tuấn Phát",
      "userId": "04366712349912838190"
     },
     "user_tz": -420
    },
    "id": "mUOb8qXEmX0m"
   },
   "outputs": [],
   "source": [
    "X = df.drop('y', axis=1)\n",
    "y = df['y']\n",
    "X_train, X_test, y_train, y_test = train_test_split(X, y, test_size=0.2, random_state=42)"
   ]
  },
  {
   "cell_type": "code",
   "execution_count": 123,
   "metadata": {
    "colab": {
     "base_uri": "https://localhost:8080/",
     "height": 80
    },
    "executionInfo": {
     "elapsed": 5926,
     "status": "ok",
     "timestamp": 1736961363416,
     "user": {
      "displayName": "Nguyễn Tuấn Phát",
      "userId": "04366712349912838190"
     },
     "user_tz": -420
    },
    "id": "DEnXwIIDvP5e",
    "outputId": "8db4119b-9b9a-4daa-bf87-3b741c81c2f9"
   },
   "outputs": [
    {
     "data": {
      "text/html": [
       "<style>#sk-container-id-3 {\n",
       "  /* Definition of color scheme common for light and dark mode */\n",
       "  --sklearn-color-text: black;\n",
       "  --sklearn-color-line: gray;\n",
       "  /* Definition of color scheme for unfitted estimators */\n",
       "  --sklearn-color-unfitted-level-0: #fff5e6;\n",
       "  --sklearn-color-unfitted-level-1: #f6e4d2;\n",
       "  --sklearn-color-unfitted-level-2: #ffe0b3;\n",
       "  --sklearn-color-unfitted-level-3: chocolate;\n",
       "  /* Definition of color scheme for fitted estimators */\n",
       "  --sklearn-color-fitted-level-0: #f0f8ff;\n",
       "  --sklearn-color-fitted-level-1: #d4ebff;\n",
       "  --sklearn-color-fitted-level-2: #b3dbfd;\n",
       "  --sklearn-color-fitted-level-3: cornflowerblue;\n",
       "\n",
       "  /* Specific color for light theme */\n",
       "  --sklearn-color-text-on-default-background: var(--sg-text-color, var(--theme-code-foreground, var(--jp-content-font-color1, black)));\n",
       "  --sklearn-color-background: var(--sg-background-color, var(--theme-background, var(--jp-layout-color0, white)));\n",
       "  --sklearn-color-border-box: var(--sg-text-color, var(--theme-code-foreground, var(--jp-content-font-color1, black)));\n",
       "  --sklearn-color-icon: #696969;\n",
       "\n",
       "  @media (prefers-color-scheme: dark) {\n",
       "    /* Redefinition of color scheme for dark theme */\n",
       "    --sklearn-color-text-on-default-background: var(--sg-text-color, var(--theme-code-foreground, var(--jp-content-font-color1, white)));\n",
       "    --sklearn-color-background: var(--sg-background-color, var(--theme-background, var(--jp-layout-color0, #111)));\n",
       "    --sklearn-color-border-box: var(--sg-text-color, var(--theme-code-foreground, var(--jp-content-font-color1, white)));\n",
       "    --sklearn-color-icon: #878787;\n",
       "  }\n",
       "}\n",
       "\n",
       "#sk-container-id-3 {\n",
       "  color: var(--sklearn-color-text);\n",
       "}\n",
       "\n",
       "#sk-container-id-3 pre {\n",
       "  padding: 0;\n",
       "}\n",
       "\n",
       "#sk-container-id-3 input.sk-hidden--visually {\n",
       "  border: 0;\n",
       "  clip: rect(1px 1px 1px 1px);\n",
       "  clip: rect(1px, 1px, 1px, 1px);\n",
       "  height: 1px;\n",
       "  margin: -1px;\n",
       "  overflow: hidden;\n",
       "  padding: 0;\n",
       "  position: absolute;\n",
       "  width: 1px;\n",
       "}\n",
       "\n",
       "#sk-container-id-3 div.sk-dashed-wrapped {\n",
       "  border: 1px dashed var(--sklearn-color-line);\n",
       "  margin: 0 0.4em 0.5em 0.4em;\n",
       "  box-sizing: border-box;\n",
       "  padding-bottom: 0.4em;\n",
       "  background-color: var(--sklearn-color-background);\n",
       "}\n",
       "\n",
       "#sk-container-id-3 div.sk-container {\n",
       "  /* jupyter's `normalize.less` sets `[hidden] { display: none; }`\n",
       "     but bootstrap.min.css set `[hidden] { display: none !important; }`\n",
       "     so we also need the `!important` here to be able to override the\n",
       "     default hidden behavior on the sphinx rendered scikit-learn.org.\n",
       "     See: https://github.com/scikit-learn/scikit-learn/issues/21755 */\n",
       "  display: inline-block !important;\n",
       "  position: relative;\n",
       "}\n",
       "\n",
       "#sk-container-id-3 div.sk-text-repr-fallback {\n",
       "  display: none;\n",
       "}\n",
       "\n",
       "div.sk-parallel-item,\n",
       "div.sk-serial,\n",
       "div.sk-item {\n",
       "  /* draw centered vertical line to link estimators */\n",
       "  background-image: linear-gradient(var(--sklearn-color-text-on-default-background), var(--sklearn-color-text-on-default-background));\n",
       "  background-size: 2px 100%;\n",
       "  background-repeat: no-repeat;\n",
       "  background-position: center center;\n",
       "}\n",
       "\n",
       "/* Parallel-specific style estimator block */\n",
       "\n",
       "#sk-container-id-3 div.sk-parallel-item::after {\n",
       "  content: \"\";\n",
       "  width: 100%;\n",
       "  border-bottom: 2px solid var(--sklearn-color-text-on-default-background);\n",
       "  flex-grow: 1;\n",
       "}\n",
       "\n",
       "#sk-container-id-3 div.sk-parallel {\n",
       "  display: flex;\n",
       "  align-items: stretch;\n",
       "  justify-content: center;\n",
       "  background-color: var(--sklearn-color-background);\n",
       "  position: relative;\n",
       "}\n",
       "\n",
       "#sk-container-id-3 div.sk-parallel-item {\n",
       "  display: flex;\n",
       "  flex-direction: column;\n",
       "}\n",
       "\n",
       "#sk-container-id-3 div.sk-parallel-item:first-child::after {\n",
       "  align-self: flex-end;\n",
       "  width: 50%;\n",
       "}\n",
       "\n",
       "#sk-container-id-3 div.sk-parallel-item:last-child::after {\n",
       "  align-self: flex-start;\n",
       "  width: 50%;\n",
       "}\n",
       "\n",
       "#sk-container-id-3 div.sk-parallel-item:only-child::after {\n",
       "  width: 0;\n",
       "}\n",
       "\n",
       "/* Serial-specific style estimator block */\n",
       "\n",
       "#sk-container-id-3 div.sk-serial {\n",
       "  display: flex;\n",
       "  flex-direction: column;\n",
       "  align-items: center;\n",
       "  background-color: var(--sklearn-color-background);\n",
       "  padding-right: 1em;\n",
       "  padding-left: 1em;\n",
       "}\n",
       "\n",
       "\n",
       "/* Toggleable style: style used for estimator/Pipeline/ColumnTransformer box that is\n",
       "clickable and can be expanded/collapsed.\n",
       "- Pipeline and ColumnTransformer use this feature and define the default style\n",
       "- Estimators will overwrite some part of the style using the `sk-estimator` class\n",
       "*/\n",
       "\n",
       "/* Pipeline and ColumnTransformer style (default) */\n",
       "\n",
       "#sk-container-id-3 div.sk-toggleable {\n",
       "  /* Default theme specific background. It is overwritten whether we have a\n",
       "  specific estimator or a Pipeline/ColumnTransformer */\n",
       "  background-color: var(--sklearn-color-background);\n",
       "}\n",
       "\n",
       "/* Toggleable label */\n",
       "#sk-container-id-3 label.sk-toggleable__label {\n",
       "  cursor: pointer;\n",
       "  display: block;\n",
       "  width: 100%;\n",
       "  margin-bottom: 0;\n",
       "  padding: 0.5em;\n",
       "  box-sizing: border-box;\n",
       "  text-align: center;\n",
       "}\n",
       "\n",
       "#sk-container-id-3 label.sk-toggleable__label-arrow:before {\n",
       "  /* Arrow on the left of the label */\n",
       "  content: \"▸\";\n",
       "  float: left;\n",
       "  margin-right: 0.25em;\n",
       "  color: var(--sklearn-color-icon);\n",
       "}\n",
       "\n",
       "#sk-container-id-3 label.sk-toggleable__label-arrow:hover:before {\n",
       "  color: var(--sklearn-color-text);\n",
       "}\n",
       "\n",
       "/* Toggleable content - dropdown */\n",
       "\n",
       "#sk-container-id-3 div.sk-toggleable__content {\n",
       "  max-height: 0;\n",
       "  max-width: 0;\n",
       "  overflow: hidden;\n",
       "  text-align: left;\n",
       "  /* unfitted */\n",
       "  background-color: var(--sklearn-color-unfitted-level-0);\n",
       "}\n",
       "\n",
       "#sk-container-id-3 div.sk-toggleable__content.fitted {\n",
       "  /* fitted */\n",
       "  background-color: var(--sklearn-color-fitted-level-0);\n",
       "}\n",
       "\n",
       "#sk-container-id-3 div.sk-toggleable__content pre {\n",
       "  margin: 0.2em;\n",
       "  border-radius: 0.25em;\n",
       "  color: var(--sklearn-color-text);\n",
       "  /* unfitted */\n",
       "  background-color: var(--sklearn-color-unfitted-level-0);\n",
       "}\n",
       "\n",
       "#sk-container-id-3 div.sk-toggleable__content.fitted pre {\n",
       "  /* unfitted */\n",
       "  background-color: var(--sklearn-color-fitted-level-0);\n",
       "}\n",
       "\n",
       "#sk-container-id-3 input.sk-toggleable__control:checked~div.sk-toggleable__content {\n",
       "  /* Expand drop-down */\n",
       "  max-height: 200px;\n",
       "  max-width: 100%;\n",
       "  overflow: auto;\n",
       "}\n",
       "\n",
       "#sk-container-id-3 input.sk-toggleable__control:checked~label.sk-toggleable__label-arrow:before {\n",
       "  content: \"▾\";\n",
       "}\n",
       "\n",
       "/* Pipeline/ColumnTransformer-specific style */\n",
       "\n",
       "#sk-container-id-3 div.sk-label input.sk-toggleable__control:checked~label.sk-toggleable__label {\n",
       "  color: var(--sklearn-color-text);\n",
       "  background-color: var(--sklearn-color-unfitted-level-2);\n",
       "}\n",
       "\n",
       "#sk-container-id-3 div.sk-label.fitted input.sk-toggleable__control:checked~label.sk-toggleable__label {\n",
       "  background-color: var(--sklearn-color-fitted-level-2);\n",
       "}\n",
       "\n",
       "/* Estimator-specific style */\n",
       "\n",
       "/* Colorize estimator box */\n",
       "#sk-container-id-3 div.sk-estimator input.sk-toggleable__control:checked~label.sk-toggleable__label {\n",
       "  /* unfitted */\n",
       "  background-color: var(--sklearn-color-unfitted-level-2);\n",
       "}\n",
       "\n",
       "#sk-container-id-3 div.sk-estimator.fitted input.sk-toggleable__control:checked~label.sk-toggleable__label {\n",
       "  /* fitted */\n",
       "  background-color: var(--sklearn-color-fitted-level-2);\n",
       "}\n",
       "\n",
       "#sk-container-id-3 div.sk-label label.sk-toggleable__label,\n",
       "#sk-container-id-3 div.sk-label label {\n",
       "  /* The background is the default theme color */\n",
       "  color: var(--sklearn-color-text-on-default-background);\n",
       "}\n",
       "\n",
       "/* On hover, darken the color of the background */\n",
       "#sk-container-id-3 div.sk-label:hover label.sk-toggleable__label {\n",
       "  color: var(--sklearn-color-text);\n",
       "  background-color: var(--sklearn-color-unfitted-level-2);\n",
       "}\n",
       "\n",
       "/* Label box, darken color on hover, fitted */\n",
       "#sk-container-id-3 div.sk-label.fitted:hover label.sk-toggleable__label.fitted {\n",
       "  color: var(--sklearn-color-text);\n",
       "  background-color: var(--sklearn-color-fitted-level-2);\n",
       "}\n",
       "\n",
       "/* Estimator label */\n",
       "\n",
       "#sk-container-id-3 div.sk-label label {\n",
       "  font-family: monospace;\n",
       "  font-weight: bold;\n",
       "  display: inline-block;\n",
       "  line-height: 1.2em;\n",
       "}\n",
       "\n",
       "#sk-container-id-3 div.sk-label-container {\n",
       "  text-align: center;\n",
       "}\n",
       "\n",
       "/* Estimator-specific */\n",
       "#sk-container-id-3 div.sk-estimator {\n",
       "  font-family: monospace;\n",
       "  border: 1px dotted var(--sklearn-color-border-box);\n",
       "  border-radius: 0.25em;\n",
       "  box-sizing: border-box;\n",
       "  margin-bottom: 0.5em;\n",
       "  /* unfitted */\n",
       "  background-color: var(--sklearn-color-unfitted-level-0);\n",
       "}\n",
       "\n",
       "#sk-container-id-3 div.sk-estimator.fitted {\n",
       "  /* fitted */\n",
       "  background-color: var(--sklearn-color-fitted-level-0);\n",
       "}\n",
       "\n",
       "/* on hover */\n",
       "#sk-container-id-3 div.sk-estimator:hover {\n",
       "  /* unfitted */\n",
       "  background-color: var(--sklearn-color-unfitted-level-2);\n",
       "}\n",
       "\n",
       "#sk-container-id-3 div.sk-estimator.fitted:hover {\n",
       "  /* fitted */\n",
       "  background-color: var(--sklearn-color-fitted-level-2);\n",
       "}\n",
       "\n",
       "/* Specification for estimator info (e.g. \"i\" and \"?\") */\n",
       "\n",
       "/* Common style for \"i\" and \"?\" */\n",
       "\n",
       ".sk-estimator-doc-link,\n",
       "a:link.sk-estimator-doc-link,\n",
       "a:visited.sk-estimator-doc-link {\n",
       "  float: right;\n",
       "  font-size: smaller;\n",
       "  line-height: 1em;\n",
       "  font-family: monospace;\n",
       "  background-color: var(--sklearn-color-background);\n",
       "  border-radius: 1em;\n",
       "  height: 1em;\n",
       "  width: 1em;\n",
       "  text-decoration: none !important;\n",
       "  margin-left: 1ex;\n",
       "  /* unfitted */\n",
       "  border: var(--sklearn-color-unfitted-level-1) 1pt solid;\n",
       "  color: var(--sklearn-color-unfitted-level-1);\n",
       "}\n",
       "\n",
       ".sk-estimator-doc-link.fitted,\n",
       "a:link.sk-estimator-doc-link.fitted,\n",
       "a:visited.sk-estimator-doc-link.fitted {\n",
       "  /* fitted */\n",
       "  border: var(--sklearn-color-fitted-level-1) 1pt solid;\n",
       "  color: var(--sklearn-color-fitted-level-1);\n",
       "}\n",
       "\n",
       "/* On hover */\n",
       "div.sk-estimator:hover .sk-estimator-doc-link:hover,\n",
       ".sk-estimator-doc-link:hover,\n",
       "div.sk-label-container:hover .sk-estimator-doc-link:hover,\n",
       ".sk-estimator-doc-link:hover {\n",
       "  /* unfitted */\n",
       "  background-color: var(--sklearn-color-unfitted-level-3);\n",
       "  color: var(--sklearn-color-background);\n",
       "  text-decoration: none;\n",
       "}\n",
       "\n",
       "div.sk-estimator.fitted:hover .sk-estimator-doc-link.fitted:hover,\n",
       ".sk-estimator-doc-link.fitted:hover,\n",
       "div.sk-label-container:hover .sk-estimator-doc-link.fitted:hover,\n",
       ".sk-estimator-doc-link.fitted:hover {\n",
       "  /* fitted */\n",
       "  background-color: var(--sklearn-color-fitted-level-3);\n",
       "  color: var(--sklearn-color-background);\n",
       "  text-decoration: none;\n",
       "}\n",
       "\n",
       "/* Span, style for the box shown on hovering the info icon */\n",
       ".sk-estimator-doc-link span {\n",
       "  display: none;\n",
       "  z-index: 9999;\n",
       "  position: relative;\n",
       "  font-weight: normal;\n",
       "  right: .2ex;\n",
       "  padding: .5ex;\n",
       "  margin: .5ex;\n",
       "  width: min-content;\n",
       "  min-width: 20ex;\n",
       "  max-width: 50ex;\n",
       "  color: var(--sklearn-color-text);\n",
       "  box-shadow: 2pt 2pt 4pt #999;\n",
       "  /* unfitted */\n",
       "  background: var(--sklearn-color-unfitted-level-0);\n",
       "  border: .5pt solid var(--sklearn-color-unfitted-level-3);\n",
       "}\n",
       "\n",
       ".sk-estimator-doc-link.fitted span {\n",
       "  /* fitted */\n",
       "  background: var(--sklearn-color-fitted-level-0);\n",
       "  border: var(--sklearn-color-fitted-level-3);\n",
       "}\n",
       "\n",
       ".sk-estimator-doc-link:hover span {\n",
       "  display: block;\n",
       "}\n",
       "\n",
       "/* \"?\"-specific style due to the `<a>` HTML tag */\n",
       "\n",
       "#sk-container-id-3 a.estimator_doc_link {\n",
       "  float: right;\n",
       "  font-size: 1rem;\n",
       "  line-height: 1em;\n",
       "  font-family: monospace;\n",
       "  background-color: var(--sklearn-color-background);\n",
       "  border-radius: 1rem;\n",
       "  height: 1rem;\n",
       "  width: 1rem;\n",
       "  text-decoration: none;\n",
       "  /* unfitted */\n",
       "  color: var(--sklearn-color-unfitted-level-1);\n",
       "  border: var(--sklearn-color-unfitted-level-1) 1pt solid;\n",
       "}\n",
       "\n",
       "#sk-container-id-3 a.estimator_doc_link.fitted {\n",
       "  /* fitted */\n",
       "  border: var(--sklearn-color-fitted-level-1) 1pt solid;\n",
       "  color: var(--sklearn-color-fitted-level-1);\n",
       "}\n",
       "\n",
       "/* On hover */\n",
       "#sk-container-id-3 a.estimator_doc_link:hover {\n",
       "  /* unfitted */\n",
       "  background-color: var(--sklearn-color-unfitted-level-3);\n",
       "  color: var(--sklearn-color-background);\n",
       "  text-decoration: none;\n",
       "}\n",
       "\n",
       "#sk-container-id-3 a.estimator_doc_link.fitted:hover {\n",
       "  /* fitted */\n",
       "  background-color: var(--sklearn-color-fitted-level-3);\n",
       "}\n",
       "</style><div id=\"sk-container-id-3\" class=\"sk-top-container\"><div class=\"sk-text-repr-fallback\"><pre>RandomForestClassifier()</pre><b>In a Jupyter environment, please rerun this cell to show the HTML representation or trust the notebook. <br />On GitHub, the HTML representation is unable to render, please try loading this page with nbviewer.org.</b></div><div class=\"sk-container\" hidden><div class=\"sk-item\"><div class=\"sk-estimator fitted sk-toggleable\"><input class=\"sk-toggleable__control sk-hidden--visually\" id=\"sk-estimator-id-3\" type=\"checkbox\" checked><label for=\"sk-estimator-id-3\" class=\"sk-toggleable__label fitted sk-toggleable__label-arrow fitted\">&nbsp;&nbsp;RandomForestClassifier<a class=\"sk-estimator-doc-link fitted\" rel=\"noreferrer\" target=\"_blank\" href=\"https://scikit-learn.org/1.5/modules/generated/sklearn.ensemble.RandomForestClassifier.html\">?<span>Documentation for RandomForestClassifier</span></a><span class=\"sk-estimator-doc-link fitted\">i<span>Fitted</span></span></label><div class=\"sk-toggleable__content fitted\"><pre>RandomForestClassifier()</pre></div> </div></div></div></div>"
      ],
      "text/plain": [
       "RandomForestClassifier()"
      ]
     },
     "execution_count": 123,
     "metadata": {},
     "output_type": "execute_result"
    }
   ],
   "source": [
    "model = RandomForestClassifier()\n",
    "model.fit(X_train, y_train)"
   ]
  },
  {
   "cell_type": "code",
   "execution_count": 124,
   "metadata": {
    "colab": {
     "base_uri": "https://localhost:8080/"
    },
    "executionInfo": {
     "elapsed": 437,
     "status": "ok",
     "timestamp": 1736961383884,
     "user": {
      "displayName": "Nguyễn Tuấn Phát",
      "userId": "04366712349912838190"
     },
     "user_tz": -420
    },
    "id": "VD2FOttKvRif",
    "outputId": "e19ceddc-e074-4465-efcb-933bd311e0e8"
   },
   "outputs": [
    {
     "name": "stdout",
     "output_type": "stream",
     "text": [
      "\n",
      "# Đánh giá mô hình Random Forest Classifier (mặc định)\n",
      "Accuracy: 0.9081267727216673\n",
      "\n",
      "Classification Report:\n",
      "              precision    recall  f1-score   support\n",
      "\n",
      "           0       0.93      0.97      0.95      7225\n",
      "           1       0.63      0.38      0.47       884\n",
      "\n",
      "    accuracy                           0.91      8109\n",
      "   macro avg       0.78      0.68      0.71      8109\n",
      "weighted avg       0.90      0.91      0.90      8109\n",
      "\n"
     ]
    }
   ],
   "source": [
    "# Đánh giá mô hình Random Forest Classifier\n",
    "print(\"\\n# Đánh giá mô hình Random Forest Classifier (mặc định)\")\n",
    "y_pred = model.predict(X_test)\n",
    "print(\"Accuracy:\", accuracy_score(y_test, y_pred))\n",
    "print(\"\\nClassification Report:\")\n",
    "print(classification_report(y_test, y_pred))"
   ]
  },
  {
   "cell_type": "markdown",
   "metadata": {
    "id": "NOSPcYpL8_EZ"
   },
   "source": [
    "**Nhận xét**\n",
    "\n",
    "**Support** :\n",
    "- Lớp 0: 7225 mẫu.\n",
    "- Lớp 1: 884 mẫu.\n",
    "- Nhận xét: Dữ liệu có sự **mất cân bằng**.\n",
    "\n",
    "**Accuracy** (Độ chính xác tổng thể): 0.91\n",
    "- Mô hình dự đoán đúng 91% các trường hợp, cả cho lớp 0 (không đăng ký) và lớp 1 (đăng ký).\n",
    "- Nhận xét: Đây là một kết quả khá tốt. Tuy nhiên, khi xét thấy dữ liệu có hiện tượng mất cân bằng, thì giá trị **Accuracy chưa đủ tin cậy**.\n",
    "\n",
    "**Precision** :\n",
    "- Lớp 0 (Không đăng ký): 0.93 (~93%)\n",
    "  - Trong số các trường hợp mô hình dự đoán là Không đăng ký, 93% thực sự là đúng.\n",
    "- Lớp 1 (Đăng ký): 0.64 (~64%)\n",
    "  - Trong số các trường hợp mô hình dự đoán là Đăng ký, 64% thực sự là đúng.\n",
    "- Nhận xét:  Mô hình hơi **ưu tiên dự đoán chính xác lớp \"Không đăng ký\"** hơn.\n",
    "\n",
    "**Recall** :\n",
    "- Lớp 0 (Không đăng ký): 0.97 (~97%)\n",
    "  - Trong tất cả các trường hợp thực sự \"Không đăng ký\", mô hình dự đoán đúng 97%.\n",
    "- Lớp 1 (Đăng ký): 0.38 (~38%)\n",
    "  - Trong tất cả các trường hợp thực sự \"Đăng ký\", mô hình chỉ phát hiện được 38%, bỏ lỡ 62% số trường hợp Đăng ký.\n",
    "- Nhận xét: Mô hình **có xu hướng bỏ sót nhiều khách hàng thực sự Đăng ký**.\n",
    "\n",
    "**F1-score** (Trung bình hài hòa của Precision và Recall):\n",
    "- Lớp 0: 0.95 (~95%)\n",
    "  - Lớp này có hiệu suất tốt hơn, do Recall và Precision đều cao.\n",
    "- Lớp 1: 0.48 (~48%)\n",
    "  - Hiệu suất lớp này kém hơn do Recall và Precision đều thấp.\n",
    "\n",
    "- Nhận xét:\n",
    "  - F1-score (lớp 0) > F1-score (lớp 1): **Mô hình (tổng quát) dự đoán cho Lớp 0 (Không đăng ký) có kết quả tốt hơn lớp 1 (Đăng ký).**\n",
    "  - Weighted avg (0.90) thấp hơn accuracy (0.91) nhưng cao hơn macro avg (0.79). Điều này cho thấy mô hình hoạt động tốt hơn trên lớp đa số (lớp 0).\n",
    "  - Dữ liệu bị mất cân bằng, tiến hành Sử dụng thuật toán SMOTE để cân bằng dữ liệu huấn luyện\n",
    "\n"
   ]
  },
  {
   "cell_type": "code",
   "execution_count": 128,
   "metadata": {
    "colab": {
     "base_uri": "https://localhost:8080/"
    },
    "executionInfo": {
     "elapsed": 797,
     "status": "ok",
     "timestamp": 1736961392653,
     "user": {
      "displayName": "Nguyễn Tuấn Phát",
      "userId": "04366712349912838190"
     },
     "user_tz": -420
    },
    "id": "t0qfPbQkmdIZ",
    "outputId": "69986c71-5da3-4045-a903-fea0476c997d"
   },
   "outputs": [
    {
     "name": "stdout",
     "output_type": "stream",
     "text": [
      "\n",
      "Số lượng mẫu sau SMOTE:\n",
      "y\n",
      "0    28964\n",
      "1    28964\n",
      "Name: count, dtype: int64\n"
     ]
    }
   ],
   "source": [
    "# Sử dụng smote để dữ liệu giảm mất cân bằng\n",
    "\n",
    "from imblearn.over_sampling import SMOTE\n",
    "\n",
    "# Áp dụng SMOTE để cân bằng dữ liệu\n",
    "smote = SMOTE(random_state=42)\n",
    "X_train_resampled, y_train_resampled = smote.fit_resample(X_train, y_train)\n",
    "\n",
    "# Kiểm tra số lượng mẫu sau SMOTE\n",
    "print(\"\\nSố lượng mẫu sau SMOTE:\")\n",
    "print(y_train_resampled.value_counts())"
   ]
  },
  {
   "cell_type": "code",
   "execution_count": 130,
   "metadata": {
    "colab": {
     "base_uri": "https://localhost:8080/",
     "height": 116
    },
    "executionInfo": {
     "elapsed": 10391,
     "status": "ok",
     "timestamp": 1736961405516,
     "user": {
      "displayName": "Nguyễn Tuấn Phát",
      "userId": "04366712349912838190"
     },
     "user_tz": -420
    },
    "id": "ZoKoAzCLm7om",
    "outputId": "d4b5d053-198b-4566-cb5b-5f60fc983db5"
   },
   "outputs": [
    {
     "name": "stdout",
     "output_type": "stream",
     "text": [
      "\n",
      "# Huấn luyện RandomForestClassifier với dữ liệu đã cân bằng\n"
     ]
    },
    {
     "data": {
      "text/html": [
       "<style>#sk-container-id-4 {\n",
       "  /* Definition of color scheme common for light and dark mode */\n",
       "  --sklearn-color-text: black;\n",
       "  --sklearn-color-line: gray;\n",
       "  /* Definition of color scheme for unfitted estimators */\n",
       "  --sklearn-color-unfitted-level-0: #fff5e6;\n",
       "  --sklearn-color-unfitted-level-1: #f6e4d2;\n",
       "  --sklearn-color-unfitted-level-2: #ffe0b3;\n",
       "  --sklearn-color-unfitted-level-3: chocolate;\n",
       "  /* Definition of color scheme for fitted estimators */\n",
       "  --sklearn-color-fitted-level-0: #f0f8ff;\n",
       "  --sklearn-color-fitted-level-1: #d4ebff;\n",
       "  --sklearn-color-fitted-level-2: #b3dbfd;\n",
       "  --sklearn-color-fitted-level-3: cornflowerblue;\n",
       "\n",
       "  /* Specific color for light theme */\n",
       "  --sklearn-color-text-on-default-background: var(--sg-text-color, var(--theme-code-foreground, var(--jp-content-font-color1, black)));\n",
       "  --sklearn-color-background: var(--sg-background-color, var(--theme-background, var(--jp-layout-color0, white)));\n",
       "  --sklearn-color-border-box: var(--sg-text-color, var(--theme-code-foreground, var(--jp-content-font-color1, black)));\n",
       "  --sklearn-color-icon: #696969;\n",
       "\n",
       "  @media (prefers-color-scheme: dark) {\n",
       "    /* Redefinition of color scheme for dark theme */\n",
       "    --sklearn-color-text-on-default-background: var(--sg-text-color, var(--theme-code-foreground, var(--jp-content-font-color1, white)));\n",
       "    --sklearn-color-background: var(--sg-background-color, var(--theme-background, var(--jp-layout-color0, #111)));\n",
       "    --sklearn-color-border-box: var(--sg-text-color, var(--theme-code-foreground, var(--jp-content-font-color1, white)));\n",
       "    --sklearn-color-icon: #878787;\n",
       "  }\n",
       "}\n",
       "\n",
       "#sk-container-id-4 {\n",
       "  color: var(--sklearn-color-text);\n",
       "}\n",
       "\n",
       "#sk-container-id-4 pre {\n",
       "  padding: 0;\n",
       "}\n",
       "\n",
       "#sk-container-id-4 input.sk-hidden--visually {\n",
       "  border: 0;\n",
       "  clip: rect(1px 1px 1px 1px);\n",
       "  clip: rect(1px, 1px, 1px, 1px);\n",
       "  height: 1px;\n",
       "  margin: -1px;\n",
       "  overflow: hidden;\n",
       "  padding: 0;\n",
       "  position: absolute;\n",
       "  width: 1px;\n",
       "}\n",
       "\n",
       "#sk-container-id-4 div.sk-dashed-wrapped {\n",
       "  border: 1px dashed var(--sklearn-color-line);\n",
       "  margin: 0 0.4em 0.5em 0.4em;\n",
       "  box-sizing: border-box;\n",
       "  padding-bottom: 0.4em;\n",
       "  background-color: var(--sklearn-color-background);\n",
       "}\n",
       "\n",
       "#sk-container-id-4 div.sk-container {\n",
       "  /* jupyter's `normalize.less` sets `[hidden] { display: none; }`\n",
       "     but bootstrap.min.css set `[hidden] { display: none !important; }`\n",
       "     so we also need the `!important` here to be able to override the\n",
       "     default hidden behavior on the sphinx rendered scikit-learn.org.\n",
       "     See: https://github.com/scikit-learn/scikit-learn/issues/21755 */\n",
       "  display: inline-block !important;\n",
       "  position: relative;\n",
       "}\n",
       "\n",
       "#sk-container-id-4 div.sk-text-repr-fallback {\n",
       "  display: none;\n",
       "}\n",
       "\n",
       "div.sk-parallel-item,\n",
       "div.sk-serial,\n",
       "div.sk-item {\n",
       "  /* draw centered vertical line to link estimators */\n",
       "  background-image: linear-gradient(var(--sklearn-color-text-on-default-background), var(--sklearn-color-text-on-default-background));\n",
       "  background-size: 2px 100%;\n",
       "  background-repeat: no-repeat;\n",
       "  background-position: center center;\n",
       "}\n",
       "\n",
       "/* Parallel-specific style estimator block */\n",
       "\n",
       "#sk-container-id-4 div.sk-parallel-item::after {\n",
       "  content: \"\";\n",
       "  width: 100%;\n",
       "  border-bottom: 2px solid var(--sklearn-color-text-on-default-background);\n",
       "  flex-grow: 1;\n",
       "}\n",
       "\n",
       "#sk-container-id-4 div.sk-parallel {\n",
       "  display: flex;\n",
       "  align-items: stretch;\n",
       "  justify-content: center;\n",
       "  background-color: var(--sklearn-color-background);\n",
       "  position: relative;\n",
       "}\n",
       "\n",
       "#sk-container-id-4 div.sk-parallel-item {\n",
       "  display: flex;\n",
       "  flex-direction: column;\n",
       "}\n",
       "\n",
       "#sk-container-id-4 div.sk-parallel-item:first-child::after {\n",
       "  align-self: flex-end;\n",
       "  width: 50%;\n",
       "}\n",
       "\n",
       "#sk-container-id-4 div.sk-parallel-item:last-child::after {\n",
       "  align-self: flex-start;\n",
       "  width: 50%;\n",
       "}\n",
       "\n",
       "#sk-container-id-4 div.sk-parallel-item:only-child::after {\n",
       "  width: 0;\n",
       "}\n",
       "\n",
       "/* Serial-specific style estimator block */\n",
       "\n",
       "#sk-container-id-4 div.sk-serial {\n",
       "  display: flex;\n",
       "  flex-direction: column;\n",
       "  align-items: center;\n",
       "  background-color: var(--sklearn-color-background);\n",
       "  padding-right: 1em;\n",
       "  padding-left: 1em;\n",
       "}\n",
       "\n",
       "\n",
       "/* Toggleable style: style used for estimator/Pipeline/ColumnTransformer box that is\n",
       "clickable and can be expanded/collapsed.\n",
       "- Pipeline and ColumnTransformer use this feature and define the default style\n",
       "- Estimators will overwrite some part of the style using the `sk-estimator` class\n",
       "*/\n",
       "\n",
       "/* Pipeline and ColumnTransformer style (default) */\n",
       "\n",
       "#sk-container-id-4 div.sk-toggleable {\n",
       "  /* Default theme specific background. It is overwritten whether we have a\n",
       "  specific estimator or a Pipeline/ColumnTransformer */\n",
       "  background-color: var(--sklearn-color-background);\n",
       "}\n",
       "\n",
       "/* Toggleable label */\n",
       "#sk-container-id-4 label.sk-toggleable__label {\n",
       "  cursor: pointer;\n",
       "  display: block;\n",
       "  width: 100%;\n",
       "  margin-bottom: 0;\n",
       "  padding: 0.5em;\n",
       "  box-sizing: border-box;\n",
       "  text-align: center;\n",
       "}\n",
       "\n",
       "#sk-container-id-4 label.sk-toggleable__label-arrow:before {\n",
       "  /* Arrow on the left of the label */\n",
       "  content: \"▸\";\n",
       "  float: left;\n",
       "  margin-right: 0.25em;\n",
       "  color: var(--sklearn-color-icon);\n",
       "}\n",
       "\n",
       "#sk-container-id-4 label.sk-toggleable__label-arrow:hover:before {\n",
       "  color: var(--sklearn-color-text);\n",
       "}\n",
       "\n",
       "/* Toggleable content - dropdown */\n",
       "\n",
       "#sk-container-id-4 div.sk-toggleable__content {\n",
       "  max-height: 0;\n",
       "  max-width: 0;\n",
       "  overflow: hidden;\n",
       "  text-align: left;\n",
       "  /* unfitted */\n",
       "  background-color: var(--sklearn-color-unfitted-level-0);\n",
       "}\n",
       "\n",
       "#sk-container-id-4 div.sk-toggleable__content.fitted {\n",
       "  /* fitted */\n",
       "  background-color: var(--sklearn-color-fitted-level-0);\n",
       "}\n",
       "\n",
       "#sk-container-id-4 div.sk-toggleable__content pre {\n",
       "  margin: 0.2em;\n",
       "  border-radius: 0.25em;\n",
       "  color: var(--sklearn-color-text);\n",
       "  /* unfitted */\n",
       "  background-color: var(--sklearn-color-unfitted-level-0);\n",
       "}\n",
       "\n",
       "#sk-container-id-4 div.sk-toggleable__content.fitted pre {\n",
       "  /* unfitted */\n",
       "  background-color: var(--sklearn-color-fitted-level-0);\n",
       "}\n",
       "\n",
       "#sk-container-id-4 input.sk-toggleable__control:checked~div.sk-toggleable__content {\n",
       "  /* Expand drop-down */\n",
       "  max-height: 200px;\n",
       "  max-width: 100%;\n",
       "  overflow: auto;\n",
       "}\n",
       "\n",
       "#sk-container-id-4 input.sk-toggleable__control:checked~label.sk-toggleable__label-arrow:before {\n",
       "  content: \"▾\";\n",
       "}\n",
       "\n",
       "/* Pipeline/ColumnTransformer-specific style */\n",
       "\n",
       "#sk-container-id-4 div.sk-label input.sk-toggleable__control:checked~label.sk-toggleable__label {\n",
       "  color: var(--sklearn-color-text);\n",
       "  background-color: var(--sklearn-color-unfitted-level-2);\n",
       "}\n",
       "\n",
       "#sk-container-id-4 div.sk-label.fitted input.sk-toggleable__control:checked~label.sk-toggleable__label {\n",
       "  background-color: var(--sklearn-color-fitted-level-2);\n",
       "}\n",
       "\n",
       "/* Estimator-specific style */\n",
       "\n",
       "/* Colorize estimator box */\n",
       "#sk-container-id-4 div.sk-estimator input.sk-toggleable__control:checked~label.sk-toggleable__label {\n",
       "  /* unfitted */\n",
       "  background-color: var(--sklearn-color-unfitted-level-2);\n",
       "}\n",
       "\n",
       "#sk-container-id-4 div.sk-estimator.fitted input.sk-toggleable__control:checked~label.sk-toggleable__label {\n",
       "  /* fitted */\n",
       "  background-color: var(--sklearn-color-fitted-level-2);\n",
       "}\n",
       "\n",
       "#sk-container-id-4 div.sk-label label.sk-toggleable__label,\n",
       "#sk-container-id-4 div.sk-label label {\n",
       "  /* The background is the default theme color */\n",
       "  color: var(--sklearn-color-text-on-default-background);\n",
       "}\n",
       "\n",
       "/* On hover, darken the color of the background */\n",
       "#sk-container-id-4 div.sk-label:hover label.sk-toggleable__label {\n",
       "  color: var(--sklearn-color-text);\n",
       "  background-color: var(--sklearn-color-unfitted-level-2);\n",
       "}\n",
       "\n",
       "/* Label box, darken color on hover, fitted */\n",
       "#sk-container-id-4 div.sk-label.fitted:hover label.sk-toggleable__label.fitted {\n",
       "  color: var(--sklearn-color-text);\n",
       "  background-color: var(--sklearn-color-fitted-level-2);\n",
       "}\n",
       "\n",
       "/* Estimator label */\n",
       "\n",
       "#sk-container-id-4 div.sk-label label {\n",
       "  font-family: monospace;\n",
       "  font-weight: bold;\n",
       "  display: inline-block;\n",
       "  line-height: 1.2em;\n",
       "}\n",
       "\n",
       "#sk-container-id-4 div.sk-label-container {\n",
       "  text-align: center;\n",
       "}\n",
       "\n",
       "/* Estimator-specific */\n",
       "#sk-container-id-4 div.sk-estimator {\n",
       "  font-family: monospace;\n",
       "  border: 1px dotted var(--sklearn-color-border-box);\n",
       "  border-radius: 0.25em;\n",
       "  box-sizing: border-box;\n",
       "  margin-bottom: 0.5em;\n",
       "  /* unfitted */\n",
       "  background-color: var(--sklearn-color-unfitted-level-0);\n",
       "}\n",
       "\n",
       "#sk-container-id-4 div.sk-estimator.fitted {\n",
       "  /* fitted */\n",
       "  background-color: var(--sklearn-color-fitted-level-0);\n",
       "}\n",
       "\n",
       "/* on hover */\n",
       "#sk-container-id-4 div.sk-estimator:hover {\n",
       "  /* unfitted */\n",
       "  background-color: var(--sklearn-color-unfitted-level-2);\n",
       "}\n",
       "\n",
       "#sk-container-id-4 div.sk-estimator.fitted:hover {\n",
       "  /* fitted */\n",
       "  background-color: var(--sklearn-color-fitted-level-2);\n",
       "}\n",
       "\n",
       "/* Specification for estimator info (e.g. \"i\" and \"?\") */\n",
       "\n",
       "/* Common style for \"i\" and \"?\" */\n",
       "\n",
       ".sk-estimator-doc-link,\n",
       "a:link.sk-estimator-doc-link,\n",
       "a:visited.sk-estimator-doc-link {\n",
       "  float: right;\n",
       "  font-size: smaller;\n",
       "  line-height: 1em;\n",
       "  font-family: monospace;\n",
       "  background-color: var(--sklearn-color-background);\n",
       "  border-radius: 1em;\n",
       "  height: 1em;\n",
       "  width: 1em;\n",
       "  text-decoration: none !important;\n",
       "  margin-left: 1ex;\n",
       "  /* unfitted */\n",
       "  border: var(--sklearn-color-unfitted-level-1) 1pt solid;\n",
       "  color: var(--sklearn-color-unfitted-level-1);\n",
       "}\n",
       "\n",
       ".sk-estimator-doc-link.fitted,\n",
       "a:link.sk-estimator-doc-link.fitted,\n",
       "a:visited.sk-estimator-doc-link.fitted {\n",
       "  /* fitted */\n",
       "  border: var(--sklearn-color-fitted-level-1) 1pt solid;\n",
       "  color: var(--sklearn-color-fitted-level-1);\n",
       "}\n",
       "\n",
       "/* On hover */\n",
       "div.sk-estimator:hover .sk-estimator-doc-link:hover,\n",
       ".sk-estimator-doc-link:hover,\n",
       "div.sk-label-container:hover .sk-estimator-doc-link:hover,\n",
       ".sk-estimator-doc-link:hover {\n",
       "  /* unfitted */\n",
       "  background-color: var(--sklearn-color-unfitted-level-3);\n",
       "  color: var(--sklearn-color-background);\n",
       "  text-decoration: none;\n",
       "}\n",
       "\n",
       "div.sk-estimator.fitted:hover .sk-estimator-doc-link.fitted:hover,\n",
       ".sk-estimator-doc-link.fitted:hover,\n",
       "div.sk-label-container:hover .sk-estimator-doc-link.fitted:hover,\n",
       ".sk-estimator-doc-link.fitted:hover {\n",
       "  /* fitted */\n",
       "  background-color: var(--sklearn-color-fitted-level-3);\n",
       "  color: var(--sklearn-color-background);\n",
       "  text-decoration: none;\n",
       "}\n",
       "\n",
       "/* Span, style for the box shown on hovering the info icon */\n",
       ".sk-estimator-doc-link span {\n",
       "  display: none;\n",
       "  z-index: 9999;\n",
       "  position: relative;\n",
       "  font-weight: normal;\n",
       "  right: .2ex;\n",
       "  padding: .5ex;\n",
       "  margin: .5ex;\n",
       "  width: min-content;\n",
       "  min-width: 20ex;\n",
       "  max-width: 50ex;\n",
       "  color: var(--sklearn-color-text);\n",
       "  box-shadow: 2pt 2pt 4pt #999;\n",
       "  /* unfitted */\n",
       "  background: var(--sklearn-color-unfitted-level-0);\n",
       "  border: .5pt solid var(--sklearn-color-unfitted-level-3);\n",
       "}\n",
       "\n",
       ".sk-estimator-doc-link.fitted span {\n",
       "  /* fitted */\n",
       "  background: var(--sklearn-color-fitted-level-0);\n",
       "  border: var(--sklearn-color-fitted-level-3);\n",
       "}\n",
       "\n",
       ".sk-estimator-doc-link:hover span {\n",
       "  display: block;\n",
       "}\n",
       "\n",
       "/* \"?\"-specific style due to the `<a>` HTML tag */\n",
       "\n",
       "#sk-container-id-4 a.estimator_doc_link {\n",
       "  float: right;\n",
       "  font-size: 1rem;\n",
       "  line-height: 1em;\n",
       "  font-family: monospace;\n",
       "  background-color: var(--sklearn-color-background);\n",
       "  border-radius: 1rem;\n",
       "  height: 1rem;\n",
       "  width: 1rem;\n",
       "  text-decoration: none;\n",
       "  /* unfitted */\n",
       "  color: var(--sklearn-color-unfitted-level-1);\n",
       "  border: var(--sklearn-color-unfitted-level-1) 1pt solid;\n",
       "}\n",
       "\n",
       "#sk-container-id-4 a.estimator_doc_link.fitted {\n",
       "  /* fitted */\n",
       "  border: var(--sklearn-color-fitted-level-1) 1pt solid;\n",
       "  color: var(--sklearn-color-fitted-level-1);\n",
       "}\n",
       "\n",
       "/* On hover */\n",
       "#sk-container-id-4 a.estimator_doc_link:hover {\n",
       "  /* unfitted */\n",
       "  background-color: var(--sklearn-color-unfitted-level-3);\n",
       "  color: var(--sklearn-color-background);\n",
       "  text-decoration: none;\n",
       "}\n",
       "\n",
       "#sk-container-id-4 a.estimator_doc_link.fitted:hover {\n",
       "  /* fitted */\n",
       "  background-color: var(--sklearn-color-fitted-level-3);\n",
       "}\n",
       "</style><div id=\"sk-container-id-4\" class=\"sk-top-container\"><div class=\"sk-text-repr-fallback\"><pre>RandomForestClassifier(random_state=42)</pre><b>In a Jupyter environment, please rerun this cell to show the HTML representation or trust the notebook. <br />On GitHub, the HTML representation is unable to render, please try loading this page with nbviewer.org.</b></div><div class=\"sk-container\" hidden><div class=\"sk-item\"><div class=\"sk-estimator fitted sk-toggleable\"><input class=\"sk-toggleable__control sk-hidden--visually\" id=\"sk-estimator-id-4\" type=\"checkbox\" checked><label for=\"sk-estimator-id-4\" class=\"sk-toggleable__label fitted sk-toggleable__label-arrow fitted\">&nbsp;&nbsp;RandomForestClassifier<a class=\"sk-estimator-doc-link fitted\" rel=\"noreferrer\" target=\"_blank\" href=\"https://scikit-learn.org/1.5/modules/generated/sklearn.ensemble.RandomForestClassifier.html\">?<span>Documentation for RandomForestClassifier</span></a><span class=\"sk-estimator-doc-link fitted\">i<span>Fitted</span></span></label><div class=\"sk-toggleable__content fitted\"><pre>RandomForestClassifier(random_state=42)</pre></div> </div></div></div></div>"
      ],
      "text/plain": [
       "RandomForestClassifier(random_state=42)"
      ]
     },
     "execution_count": 130,
     "metadata": {},
     "output_type": "execute_result"
    }
   ],
   "source": [
    "# Huấn luyện RandomForestClassifier với dữ liệu đã cân bằng\n",
    "print(\"\\n# Huấn luyện RandomForestClassifier với dữ liệu đã cân bằng\")\n",
    "\n",
    "# Huấn luyện RandomForestClassifier\n",
    "model_smote_rf = RandomForestClassifier(random_state=42)\n",
    "model_smote_rf.fit(X_train_resampled, y_train_resampled)"
   ]
  },
  {
   "cell_type": "code",
   "execution_count": 132,
   "metadata": {
    "colab": {
     "base_uri": "https://localhost:8080/"
    },
    "executionInfo": {
     "elapsed": 391,
     "status": "ok",
     "timestamp": 1736961410557,
     "user": {
      "displayName": "Nguyễn Tuấn Phát",
      "userId": "04366712349912838190"
     },
     "user_tz": -420
    },
    "id": "wNVOKGrP7bVb",
    "outputId": "40a43803-74cf-4ec9-9edb-950af7dba9c3"
   },
   "outputs": [
    {
     "name": "stdout",
     "output_type": "stream",
     "text": [
      "\n",
      "# Đánh giá mô hình RandomForestClassifier với dữ liệu đã cân bằng với SMOTE\n",
      "Accuracy: 0.8928351214699717\n",
      "\n",
      "Classification Report:\n",
      "              precision    recall  f1-score   support\n",
      "\n",
      "           0       0.96      0.92      0.94      7225\n",
      "           1       0.51      0.66      0.57       884\n",
      "\n",
      "    accuracy                           0.89      8109\n",
      "   macro avg       0.73      0.79      0.76      8109\n",
      "weighted avg       0.91      0.89      0.90      8109\n",
      "\n"
     ]
    }
   ],
   "source": [
    "\n",
    "# Đánh giá mô hình với dữ liệu đã cân bằng\n",
    "print(\"\\n# Đánh giá mô hình RandomForestClassifier với dữ liệu đã cân bằng với SMOTE\")\n",
    "y_pred_smote_rf = model_smote_rf.predict(X_test)\n",
    "print(\"Accuracy:\", accuracy_score(y_test, y_pred_smote_rf))\n",
    "print(\"\\nClassification Report:\")\n",
    "print(classification_report(y_test, y_pred_smote_rf))"
   ]
  },
  {
   "cell_type": "markdown",
   "metadata": {
    "id": "ViDs2iti8U68"
   },
   "source": [
    "- **Mô tả:** Sử dụng SMOTE để tạo thêm dữ liệu nhân tạo cho lớp thiểu số, giúp cân bằng giữa các lớp.\n",
    "- **Hiệu suất:**\n",
    "  - Accuracy: **0.89**\n",
    "  - Precision (lớp 1): **0.51**\n",
    "  - Recall (lớp 1): **0.66**\n",
    "  - F1-score (lớp 1): **0.57**\n",
    "- **Đánh giá:**\n",
    "  - Cải thiện đồng thời Recall và F1-score của lớp 1, tuy nhiên Precision bị giảm đi.\n",
    "  - Độ chính xác kém đi nhưng không đáng kể, mô hình hoạt động tốt.\n",
    "  - Mô hình không còn bỏ sót các khách hàng đăng ký nhiều như trước.\n",
    "  - Tiếp tục thử nghiệm với thuật toán XGBoost."
   ]
  },
  {
   "cell_type": "markdown",
   "metadata": {
    "id": "LWWnyoxHnRiy"
   },
   "source": [
    "## Sử dụng thuật toán XGBoost"
   ]
  },
  {
   "cell_type": "code",
   "execution_count": 137,
   "metadata": {
    "colab": {
     "base_uri": "https://localhost:8080/"
    },
    "executionInfo": {
     "elapsed": 6093,
     "status": "ok",
     "timestamp": 1736961435574,
     "user": {
      "displayName": "Nguyễn Tuấn Phát",
      "userId": "04366712349912838190"
     },
     "user_tz": -420
    },
    "id": "R8wumZmmFLFO",
    "outputId": "484cb08f-e430-4be5-94d0-90888817751b"
   },
   "outputs": [
    {
     "name": "stdout",
     "output_type": "stream",
     "text": [
      "Requirement already satisfied: xgboost in e:\\py\\lib\\site-packages (3.0.2)\n",
      "Requirement already satisfied: numpy in e:\\py\\lib\\site-packages (from xgboost) (1.26.4)\n",
      "Requirement already satisfied: scipy in e:\\py\\lib\\site-packages (from xgboost) (1.13.1)\n",
      "XGBoost Accuracy: 0.9125662843753853\n",
      "Confusion Matrix:\n",
      " [[6941  284]\n",
      " [ 425  459]]\n",
      "Classification Report:\n",
      "               precision    recall  f1-score   support\n",
      "\n",
      "           0       0.94      0.96      0.95      7225\n",
      "           1       0.62      0.52      0.56       884\n",
      "\n",
      "    accuracy                           0.91      8109\n",
      "   macro avg       0.78      0.74      0.76      8109\n",
      "weighted avg       0.91      0.91      0.91      8109\n",
      "\n"
     ]
    }
   ],
   "source": [
    "X = df.drop('y', axis=1)\n",
    "y = df['y']\n",
    "X_train, X_test, y_train, y_test = train_test_split(X, y, test_size=0.2, random_state=42)\n",
    "# sử dụng thuật toán XGBoost\n",
    "\n",
    "!pip install xgboost\n",
    "# Import necessary modules\n",
    "from sklearn.metrics import accuracy_score, classification_report, confusion_matrix\n",
    "from xgboost import XGBClassifier\n",
    "\n",
    "# Khởi tạo mô hình XGBoost\n",
    "xgb_model = XGBClassifier(random_state=42)\n",
    "\n",
    "# Huấn luyện mô hình với dữ liệu huấn luyện\n",
    "xgb_model.fit(X_train, y_train)\n",
    "\n",
    "# Dự đoán trên tập kiểm tra\n",
    "y_pred_xgb = xgb_model.predict(X_test)\n",
    "\n",
    "# Đánh giá mô hình\n",
    "accuracy_xgb = accuracy_score(y_test, y_pred_xgb)\n",
    "conf_matrix_xgb = confusion_matrix(y_test, y_pred_xgb)\n",
    "class_report_xgb = classification_report(y_test, y_pred_xgb)\n",
    "\n",
    "print('XGBoost Accuracy:', accuracy_xgb)\n",
    "print('Confusion Matrix:\\n', conf_matrix_xgb)\n",
    "print('Classification Report:\\n', class_report_xgb)"
   ]
  },
  {
   "cell_type": "markdown",
   "metadata": {
    "id": "Ay7q42G66mNF"
   },
   "source": [
    "**Nhận xét**\n",
    "\n",
    "**Support** :\n",
    "- Lớp 0: 7225 mẫu.\n",
    "- Lớp 1: 884 mẫu.\n",
    "- Nhận xét: Dữ liệu có sự **mất cân bằng**.\n",
    "\n",
    "**Accuracy** (Độ chính xác tổng thể): 0.91\n",
    "- Mô hình dự đoán đúng 91% các trường hợp, cả cho lớp 0 (không đăng ký) và lớp 1 (đăng ký).\n",
    "- Nhận xét: Đây là một kết quả khá tốt. Tuy nhiên, khi xét thấy dữ liệu có hiện tượng mất cân bằng, thì giá trị **Accuracy chưa đủ tin cậy**.\n",
    "\n",
    "**Precision** :\n",
    "- Lớp 0 (Không đăng ký): 0.94 (~94%)\n",
    "  - Trong số các trường hợp mô hình dự đoán là Không đăng ký, 94% thực sự là đúng.\n",
    "- Lớp 1 (Đăng ký): 0.61 (~61%)\n",
    "  - Trong số các trường hợp mô hình dự đoán là Đăng ký, 61% thực sự là đúng.\n",
    "- Nhận xét:  Mô hình hơi **ưu tiên dự đoán chính xác lớp \"Không đăng ký\"** hơn.\n",
    "\n",
    "**Recall** :\n",
    "- Lớp 0 (Không đăng ký): 0.96 (~96%)\n",
    "  - Trong tất cả các trường hợp thực sự \"Không đăng ký\", mô hình dự đoán đúng 96%.\n",
    "- Lớp 1 (Đăng ký): 0.50 (~50%)\n",
    "  - Trong tất cả các trường hợp thực sự \"Đăng ký\", mô hình chỉ phát hiện được 50%, bỏ lỡ 50% số trường hợp Đăng ký.\n",
    "- Nhận xét: Mô hình **có xu hướng bỏ sót nhiều khách hàng thực sự Đăng ký**.\n",
    "\n",
    "**F1-score** (Trung bình hài hòa của Precision và Recall):\n",
    "- Lớp 0: 0.95 (~95%)\n",
    "  - Lớp này có hiệu suất tốt hơn, do Recall và Precision đều cao.\n",
    "- Lớp 1: 0.55 (~55%)\n",
    "  - Hiệu suất lớp này kém hơn do Recall và Precision đều thấp.\n",
    "\n",
    "- Nhận xét:\n",
    "  - F1-score (lớp 0) > F1-score (lớp 1): **Mô hình (tổng quát) dự đoán cho Lớp 0 (Không đăng ký) có kết quả tốt hơn lớp 1 (Đăng ký).**\n",
    "  - Weighted avg (0.90) thấp hơn accuracy (0.91) nhưng cao hơn macro avg (0.77). Điều này cho thấy mô hình hoạt động tốt hơn trên lớp đa số (lớp 0).\n",
    "  - Dữ liệu bị mất cân bằng, tiến hành Sử dụng thuật toán SMOTE để cân bằng dữ liệu huấn luyện\n",
    "\n"
   ]
  },
  {
   "cell_type": "code",
   "execution_count": 160,
   "metadata": {
    "colab": {
     "base_uri": "https://localhost:8080/"
    },
    "executionInfo": {
     "elapsed": 738,
     "status": "ok",
     "timestamp": 1736961457659,
     "user": {
      "displayName": "Nguyễn Tuấn Phát",
      "userId": "04366712349912838190"
     },
     "user_tz": -420
    },
    "id": "9aQH1mtOnJDO",
    "outputId": "65df0ba8-d26b-4e6f-a591-f656ea72bfa0"
   },
   "outputs": [
    {
     "name": "stderr",
     "output_type": "stream",
     "text": [
      "/usr/local/lib/python3.10/dist-packages/sklearn/base.py:474: FutureWarning: `BaseEstimator._validate_data` is deprecated in 1.6 and will be removed in 1.7. Use `sklearn.utils.validation.validate_data` instead. This function becomes public and is part of the scikit-learn developer API.\n",
      "  warnings.warn(\n",
      "/usr/local/lib/python3.10/dist-packages/sklearn/utils/_tags.py:354: FutureWarning: The SMOTE or classes from which it inherits use `_get_tags` and `_more_tags`. Please define the `__sklearn_tags__` method, or inherit from `sklearn.base.BaseEstimator` and/or other appropriate mixins such as `sklearn.base.TransformerMixin`, `sklearn.base.ClassifierMixin`, `sklearn.base.RegressorMixin`, and `sklearn.base.OutlierMixin`. From scikit-learn 1.7, not defining `__sklearn_tags__` will raise an error.\n",
      "  warnings.warn(\n"
     ]
    },
    {
     "name": "stdout",
     "output_type": "stream",
     "text": [
      "\n",
      "Số lượng mẫu sau SMOTE:\n",
      "y\n",
      "0    28964\n",
      "1    28964\n",
      "Name: count, dtype: int64\n"
     ]
    }
   ],
   "source": [
    "# Sử dụng smote để dữ liệu bớt mất cân bằng\n",
    "\n",
    "from imblearn.over_sampling import SMOTE\n",
    "\n",
    "# Áp dụng SMOTE để cân bằng dữ liệu\n",
    "smote = SMOTE(random_state=42)\n",
    "X_train_resampled, y_train_resampled = smote.fit_resample(X_train, y_train)\n",
    "\n",
    "# Kiểm tra số lượng mẫu sau SMOTE\n",
    "print(\"\\nSố lượng mẫu sau SMOTE:\")\n",
    "print(y_train_resampled.value_counts())"
   ]
  },
  {
   "cell_type": "code",
   "execution_count": 161,
   "metadata": {
    "colab": {
     "base_uri": "https://localhost:8080/"
    },
    "executionInfo": {
     "elapsed": 1134,
     "status": "ok",
     "timestamp": 1736961461153,
     "user": {
      "displayName": "Nguyễn Tuấn Phát",
      "userId": "04366712349912838190"
     },
     "user_tz": -420
    },
    "id": "NvSurmpBnMmo",
    "outputId": "49d92122-1067-4715-fca0-4abbbd7f09a1"
   },
   "outputs": [
    {
     "name": "stdout",
     "output_type": "stream",
     "text": [
      "XGBoost with SMOTE Accuracy: 0.8938216796152423\n",
      "Confusion Matrix:\n",
      " [[6640  585]\n",
      " [ 276  608]]\n",
      "Classification Report:\n",
      "               precision    recall  f1-score   support\n",
      "\n",
      "           0       0.96      0.92      0.94      7225\n",
      "           1       0.51      0.69      0.59       884\n",
      "\n",
      "    accuracy                           0.89      8109\n",
      "   macro avg       0.73      0.80      0.76      8109\n",
      "weighted avg       0.91      0.89      0.90      8109\n",
      "\n"
     ]
    }
   ],
   "source": [
    "from sklearn.metrics import confusion_matrix\n",
    "\n",
    "# Huấn luyện XGBoost với dữ liệu đã được cân bằng bằng SMOTE\n",
    "xgb_model_smote = XGBClassifier(random_state=42)\n",
    "xgb_model_smote.fit(X_train_resampled, y_train_resampled)\n",
    "\n",
    "# Dự đoán trên tập kiểm tra\n",
    "y_pred_xgb_smote = xgb_model_smote.predict(X_test)\n",
    "\n",
    "# Đánh giá mô hình\n",
    "accuracy_xgb_smote = accuracy_score(y_test, y_pred_xgb_smote)\n",
    "conf_matrix_xgb_smote = confusion_matrix(y_test, y_pred_xgb_smote)\n",
    "class_report_xgb_smote = classification_report(y_test, y_pred_xgb_smote)\n",
    "\n",
    "print('XGBoost with SMOTE Accuracy:', accuracy_xgb_smote)\n",
    "print('Confusion Matrix:\\n', conf_matrix_xgb_smote)\n",
    "print('Classification Report:\\n', class_report_xgb_smote)"
   ]
  },
  {
   "cell_type": "markdown",
   "metadata": {
    "id": "ZAzTFUQn7cl_"
   },
   "source": [
    "### **(3) Cân bằng dữ liệu bằng SMOTE**\n",
    "- **Mô tả:** Sử dụng SMOTE để tạo thêm dữ liệu nhân tạo cho lớp thiểu số, giúp cân bằng giữa các lớp.\n",
    "- **Hiệu suất:**\n",
    "  - Accuracy: **0.89**\n",
    "  - Precision (lớp 1): **0.51**\n",
    "  - Recall (lớp 1): **0.69**\n",
    "  - F1-score (lớp 1): **0.59**\n",
    "- **Đánh giá:**\n",
    "  - Cải thiện đồng thời Recall và F1-score của lớp 1, tuy nhiên Precision giảm đi.\n",
    "  - Độ chính xác kém đi nhưng không đáng kể, mô hình vẫn hoạt động tốt.\n",
    "  - Mô hình không còn bỏ sót các khách hàng đăng ký nhiều như trước."
   ]
  },
  {
   "cell_type": "markdown",
   "metadata": {
    "id": "wRKu46Wz9o9G"
   },
   "source": [
    "# Đánh giá mô hình\n",
    "1. <b>Ưu điểm</b>:\n",
    "  - Mô hình hoạt động khá tốt, với độ chính xác tổng thể đạt 89%.\n",
    "  - Độ nhạy của lớp 0 cũng rất tốt, cho thấy mô hình ít bỏ sót các mẫu thực sự thuộc lớp 0.\n",
    "  - Kỹ thuật SMOTE đã giúp cải thiện việc cân bằng dữ liệu, đặc biệt là đối với lớp thiểu số.\n",
    "2. <b>Hạn chế</b>:\n",
    "  - Precision của cả hai lớp chênh lệch khá lớn (96% so với 51%), cho thấy mô hình đang lệch hẳn về lớp 0 (Không đăng ký).\n",
    "  - Recall của lớp 1 (Đăng ký) chỉ đạt 68%, nghĩa là mô hình bỏ sót 32% số hành khách đăng ký.\n",
    "  - Với bài toán Phân loại khách hàng tiềm năng, lớp \"Đăng ký\" (lớp 1) mang ý nghĩa quan trọng hơn đối với ngân hàng, vì họ cần biết được có bao nhiêu người sẽ đăng ký sử dụng dịch vụ Tiền gửi có kỳ hạn của họ."
   ]
  }
 ],
 "metadata": {
  "colab": {
   "provenance": []
  },
  "kernelspec": {
   "display_name": "Python 3 (ipykernel)",
   "language": "python",
   "name": "python3"
  },
  "language_info": {
   "codemirror_mode": {
    "name": "ipython",
    "version": 3
   },
   "file_extension": ".py",
   "mimetype": "text/x-python",
   "name": "python",
   "nbconvert_exporter": "python",
   "pygments_lexer": "ipython3",
   "version": "3.12.7"
  }
 },
 "nbformat": 4,
 "nbformat_minor": 4
}
